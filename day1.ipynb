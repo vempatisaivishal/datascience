{
 "cells": [
  {
   "cell_type": "code",
   "execution_count": 1,
   "id": "88c7e735-d6d0-4a6a-bcce-6976ac76ed99",
   "metadata": {},
   "outputs": [],
   "source": [
    "a=10\n"
   ]
  },
  {
   "cell_type": "code",
   "execution_count": 3,
   "id": "798a302b-8b26-4063-a299-fc17b1ceb738",
   "metadata": {},
   "outputs": [
    {
     "data": {
      "text/plain": [
       "10"
      ]
     },
     "execution_count": 3,
     "metadata": {},
     "output_type": "execute_result"
    }
   ],
   "source": [
    "a#assignment operator is a=10"
   ]
  },
  {
   "cell_type": "code",
   "execution_count": 4,
   "id": "c2f56054-eca7-4894-ba7d-a9223121981f",
   "metadata": {},
   "outputs": [
    {
     "name": "stdout",
     "output_type": "stream",
     "text": [
      "10\n"
     ]
    }
   ],
   "source": [
    "print(a)#this is method to print"
   ]
  },
  {
   "cell_type": "code",
   "execution_count": 5,
   "id": "7d968990-93e0-4365-9f3c-882ff26e8ffd",
   "metadata": {},
   "outputs": [],
   "source": [
    "#single line comment"
   ]
  },
  {
   "cell_type": "code",
   "execution_count": 8,
   "id": "f0842363-2837-4372-bfdd-b1014bba9bea",
   "metadata": {},
   "outputs": [
    {
     "data": {
      "text/plain": [
       "'this is also comment but muliline'"
      ]
     },
     "execution_count": 8,
     "metadata": {},
     "output_type": "execute_result"
    }
   ],
   "source": [
    "'''this is also comment but muliline'''"
   ]
  },
  {
   "cell_type": "code",
   "execution_count": 9,
   "id": "22411839-f59f-40d6-b8a5-56a69086df22",
   "metadata": {},
   "outputs": [
    {
     "data": {
      "text/plain": [
       "'this is also comment but multiline'"
      ]
     },
     "execution_count": 9,
     "metadata": {},
     "output_type": "execute_result"
    }
   ],
   "source": [
    "\"\"\"this is also comment but multiline\"\"\""
   ]
  },
  {
   "cell_type": "code",
   "execution_count": 10,
   "id": "9eaa9ec7-d362-4d65-bdc7-6c8208c31169",
   "metadata": {},
   "outputs": [],
   "source": [
    "#now version is 3.11\n",
    "#it started in the year 1989"
   ]
  },
  {
   "cell_type": "code",
   "execution_count": 11,
   "id": "7e262c5e-0ad4-4bdf-bbe8-c055c601e5dc",
   "metadata": {},
   "outputs": [
    {
     "name": "stdout",
     "output_type": "stream",
     "text": [
      "4\n",
      "-2\n"
     ]
    }
   ],
   "source": [
    "##numbers\n",
    "print(1+3)#this is addition\n",
    "print(1-3)#this is subtraction"
   ]
  },
  {
   "cell_type": "code",
   "execution_count": 13,
   "id": "a8ece741-0ef2-4986-9fd5-2afdc7c9f668",
   "metadata": {},
   "outputs": [
    {
     "name": "stdout",
     "output_type": "stream",
     "text": [
      "2\n"
     ]
    }
   ],
   "source": [
    "a=2\n",
    "print(a)#this is to show output print"
   ]
  },
  {
   "cell_type": "code",
   "execution_count": 15,
   "id": "1ef5f139-92fb-4e8a-8c4c-d6eac668fe83",
   "metadata": {},
   "outputs": [
    {
     "name": "stdout",
     "output_type": "stream",
     "text": [
      "this is python\n"
     ]
    }
   ],
   "source": [
    "print(\"this is python\")#this is string printing"
   ]
  },
  {
   "cell_type": "code",
   "execution_count": 16,
   "id": "9cd3a909-c86f-49dd-82a9-bd042daec217",
   "metadata": {},
   "outputs": [
    {
     "name": "stdout",
     "output_type": "stream",
     "text": [
      "this is line 1\n",
      "this is new line\n"
     ]
    }
   ],
   "source": [
    "print(\"this is line 1\\nthis is new line\")#this in two lines"
   ]
  },
  {
   "cell_type": "code",
   "execution_count": 17,
   "id": "b5c6de08-842c-4eba-8a4b-a0dac5b21a60",
   "metadata": {},
   "outputs": [
    {
     "name": "stdout",
     "output_type": "stream",
     "text": [
      "23\n",
      "vishal\n"
     ]
    }
   ],
   "source": [
    "#variables assignment\n",
    "a=23\n",
    "b=\"vishal\"\n",
    "print(a)\n",
    "print(b)#we can assign any type of data into variables"
   ]
  },
  {
   "cell_type": "code",
   "execution_count": 18,
   "id": "eff3ceaf-01ad-475b-b864-ba526c38047c",
   "metadata": {},
   "outputs": [
    {
     "name": "stdout",
     "output_type": "stream",
     "text": [
      "2\n"
     ]
    }
   ],
   "source": [
    "b=2#now b is updated\n",
    "print(b)"
   ]
  },
  {
   "cell_type": "code",
   "execution_count": 19,
   "id": "a2806ff3-bcc8-443d-a3b9-f9e726c0011f",
   "metadata": {},
   "outputs": [
    {
     "name": "stdout",
     "output_type": "stream",
     "text": [
      "<class 'str'>\n"
     ]
    }
   ],
   "source": [
    "c='vishal'\n",
    "print(type(c))#this gives type of variable"
   ]
  },
  {
   "cell_type": "code",
   "execution_count": 20,
   "id": "e6666bc7-302c-48f6-a230-849fd696a11e",
   "metadata": {},
   "outputs": [
    {
     "name": "stdout",
     "output_type": "stream",
     "text": [
      "<class 'float'>\n"
     ]
    }
   ],
   "source": [
    "d=1.234\n",
    "print(type(d))#this will give as float type"
   ]
  },
  {
   "cell_type": "code",
   "execution_count": 21,
   "id": "19c9b651-5156-4e22-8b20-05103d0df3dd",
   "metadata": {},
   "outputs": [
    {
     "name": "stdout",
     "output_type": "stream",
     "text": [
      "<class 'complex'>\n"
     ]
    }
   ],
   "source": [
    "e=1+2j\n",
    "print(type(e))#this is complex"
   ]
  },
  {
   "cell_type": "code",
   "execution_count": 22,
   "id": "3eb0b2ae-10e1-4a7e-821b-cc8e7b98e36c",
   "metadata": {},
   "outputs": [
    {
     "name": "stdout",
     "output_type": "stream",
     "text": [
      "above is variable decalaration format\n"
     ]
    }
   ],
   "source": [
    "#variable start with alphabets and never start with digits\n",
    "#you can only start with alphabets and _ but never with digits\n",
    "print(\"above is variable decalaration format\")"
   ]
  },
  {
   "cell_type": "code",
   "execution_count": 23,
   "id": "3065e940-e425-4e19-bf2b-3d9a9e54bc2f",
   "metadata": {},
   "outputs": [
    {
     "name": "stdout",
     "output_type": "stream",
     "text": [
      "2.0\n"
     ]
    }
   ],
   "source": [
    "#never use int,float,other key words for variable naming in python\n",
    "print(float(2))"
   ]
  },
  {
   "cell_type": "code",
   "execution_count": 25,
   "id": "482f41ed-656e-4c27-9acb-13238e905634",
   "metadata": {},
   "outputs": [
    {
     "name": "stdout",
     "output_type": "stream",
     "text": [
      "False\n",
      "True\n"
     ]
    }
   ],
   "source": [
    "#boolean are True and False\n",
    "print(True and False)#this is and which is False\n",
    "print(True or False)#this is True"
   ]
  },
  {
   "cell_type": "code",
   "execution_count": 26,
   "id": "6daca0cc-a395-449f-b6ad-3a035219612d",
   "metadata": {},
   "outputs": [
    {
     "name": "stdout",
     "output_type": "stream",
     "text": [
      "True\n"
     ]
    }
   ],
   "source": [
    "print(not(False))#this is not of false is true"
   ]
  },
  {
   "cell_type": "code",
   "execution_count": 27,
   "id": "720e828c-a870-41c6-b6d5-2c576949deaf",
   "metadata": {},
   "outputs": [
    {
     "data": {
      "text/plain": [
       "bool"
      ]
     },
     "execution_count": 27,
     "metadata": {},
     "output_type": "execute_result"
    }
   ],
   "source": [
    "type(True)"
   ]
  },
  {
   "cell_type": "code",
   "execution_count": 29,
   "id": "349538d5-39a3-4089-9144-6cc5bc5600cb",
   "metadata": {},
   "outputs": [
    {
     "name": "stdout",
     "output_type": "stream",
     "text": [
      "False\n",
      "True\n",
      "True\n"
     ]
    }
   ],
   "source": [
    "print(bool(0))\n",
    "print(bool(2))\n",
    "print(bool(-2))#except 0 all are True"
   ]
  },
  {
   "cell_type": "code",
   "execution_count": 31,
   "id": "b03c6a87-137d-4626-9d0a-919b8afc48f9",
   "metadata": {},
   "outputs": [
    {
     "name": "stdout",
     "output_type": "stream",
     "text": [
      "2\n",
      "2\n"
     ]
    }
   ],
   "source": [
    "#typecasting\n",
    "print(str(2))#this is converting to string type\n",
    "print(int(2.8))#this is converting to int type"
   ]
  },
  {
   "cell_type": "code",
   "execution_count": 33,
   "id": "1a4eca95-92d5-45d5-8adc-e3ad1e18eef9",
   "metadata": {},
   "outputs": [
    {
     "name": "stdout",
     "output_type": "stream",
     "text": [
      "this is true\n"
     ]
    }
   ],
   "source": [
    "#conditionals\n",
    "if(2==2):\n",
    "    print(\"this is true\")\n",
    "#when if is true then it gets executed"
   ]
  },
  {
   "cell_type": "code",
   "execution_count": 34,
   "id": "f28c66d6-7f7a-4921-8a9f-bcad39af6007",
   "metadata": {},
   "outputs": [
    {
     "name": "stdout",
     "output_type": "stream",
     "text": [
      "<class 'int'>\n"
     ]
    }
   ],
   "source": [
    "print(type(int('10')))#this is converted to int type"
   ]
  },
  {
   "cell_type": "code",
   "execution_count": 35,
   "id": "574414ac-f490-4f94-884e-3020814e2318",
   "metadata": {},
   "outputs": [],
   "source": [
    "#dynamic typing\n",
    "#python is dynamic type language we no need to mention which type is the code we have\n",
    "x=12#it understands we have integer type\n",
    "y=23.21#this is understanding we have float type\n",
    "z=\"vishal\"#this is understanding the string type"
   ]
  },
  {
   "cell_type": "code",
   "execution_count": 37,
   "id": "b214ccea-e4e3-4d27-ae00-32d3c66c5acb",
   "metadata": {},
   "outputs": [
    {
     "name": "stdout",
     "output_type": "stream",
     "text": [
      "1\n"
     ]
    }
   ],
   "source": [
    "print(int(1.999999))#this do flooring of function"
   ]
  },
  {
   "cell_type": "code",
   "execution_count": 38,
   "id": "01bcc1c2-b4db-407c-83ae-44a22991e96c",
   "metadata": {},
   "outputs": [
    {
     "name": "stdout",
     "output_type": "stream",
     "text": [
      "11\n"
     ]
    }
   ],
   "source": [
    "print(\"1\"+\"1\")#this will give 11 which is string concatenation"
   ]
  },
  {
   "cell_type": "code",
   "execution_count": null,
   "id": "7069495c-f444-4ad7-accc-00909c44af2f",
   "metadata": {},
   "outputs": [],
   "source": []
  }
 ],
 "metadata": {
  "kernelspec": {
   "display_name": "Python 3 (ipykernel)",
   "language": "python",
   "name": "python3"
  },
  "language_info": {
   "codemirror_mode": {
    "name": "ipython",
    "version": 3
   },
   "file_extension": ".py",
   "mimetype": "text/x-python",
   "name": "python",
   "nbconvert_exporter": "python",
   "pygments_lexer": "ipython3",
   "version": "3.10.8"
  }
 },
 "nbformat": 4,
 "nbformat_minor": 5
}
