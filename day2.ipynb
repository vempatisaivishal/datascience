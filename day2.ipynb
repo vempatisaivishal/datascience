{
 "cells": [
  {
   "cell_type": "code",
   "execution_count": 1,
   "id": "58f5d12b-027a-4a18-b68b-94af2d76ba3e",
   "metadata": {},
   "outputs": [],
   "source": [
    "a=10#this is variable assignment"
   ]
  },
  {
   "cell_type": "code",
   "execution_count": 2,
   "id": "5a173539-0ab9-4195-aba2-d0f6242f3662",
   "metadata": {},
   "outputs": [],
   "source": [
    "a='c'#now we are overwriting the value of variable"
   ]
  },
  {
   "cell_type": "code",
   "execution_count": 3,
   "id": "235ceb1d-1954-4056-9df0-546635cb080e",
   "metadata": {},
   "outputs": [
    {
     "name": "stdout",
     "output_type": "stream",
     "text": [
      "<class 'str'>\n"
     ]
    }
   ],
   "source": [
    "print(type(a))#this will print the type of a we have"
   ]
  },
  {
   "cell_type": "code",
   "execution_count": 4,
   "id": "d7a75989-63b3-4f8c-89c3-b06e6ef2b913",
   "metadata": {},
   "outputs": [
    {
     "name": "stdout",
     "output_type": "stream",
     "text": [
      "123\n"
     ]
    }
   ],
   "source": [
    "print(int('123'))#this is converting string inside type to int"
   ]
  },
  {
   "cell_type": "code",
   "execution_count": 5,
   "id": "3cb2cb07-17e8-44ad-b6ea-b4512f843d93",
   "metadata": {},
   "outputs": [],
   "source": [
    "#but we can't do int('words') as we have the words not of integer even after converting"
   ]
  },
  {
   "cell_type": "code",
   "execution_count": 6,
   "id": "68556ddb-f2a9-44ce-91e6-ffdd3801a54f",
   "metadata": {},
   "outputs": [
    {
     "name": "stdout",
     "output_type": "stream",
     "text": [
      "abcd\n",
      "123\n"
     ]
    }
   ],
   "source": [
    "print(\"abcd\")#printing the alphabets\n",
    "print(123)#printing the digits"
   ]
  },
  {
   "cell_type": "code",
   "execution_count": 7,
   "id": "ab681d3c-6bbe-48aa-aa35-a20c7a8bb5ba",
   "metadata": {},
   "outputs": [
    {
     "name": "stdout",
     "output_type": "stream",
     "text": [
      "hello 123\n"
     ]
    }
   ],
   "source": [
    "print(\"hello\",123)#this will take space and give answer"
   ]
  },
  {
   "cell_type": "code",
   "execution_count": 8,
   "id": "bfa39d0f-e212-49ba-82b8-30560e8e71aa",
   "metadata": {},
   "outputs": [
    {
     "name": "stdout",
     "output_type": "stream",
     "text": [
      "my age is 32\n"
     ]
    }
   ],
   "source": [
    "#f strings used to put different datatypes in string\n",
    "print(f\"my age is {32}\")#this way we can use"
   ]
  },
  {
   "cell_type": "code",
   "execution_count": 9,
   "id": "3ecd40ee-fbdf-4a96-9a7e-aa2ed00711aa",
   "metadata": {},
   "outputs": [
    {
     "name": "stdout",
     "output_type": "stream",
     "text": [
      "18 and 7 are my lucky numbers\n"
     ]
    }
   ],
   "source": [
    "#format of string\n",
    "print(\"{} and {} are my lucky numbers\".format(18,7))"
   ]
  },
  {
   "cell_type": "code",
   "execution_count": 11,
   "id": "c7fe2fe1-7fd3-4349-861f-abc4064b9971",
   "metadata": {},
   "outputs": [
    {
     "name": "stdout",
     "output_type": "stream",
     "text": [
      "praneeth and vishal are placeholders\n"
     ]
    }
   ],
   "source": [
    "print(\"{a} and {b} are placeholders\".format(b=\"vishal\",a=\"praneeth\"))#it takes vishal in b and praneeth in a"
   ]
  },
  {
   "cell_type": "code",
   "execution_count": 12,
   "id": "9b866750-ecb4-422a-9195-3536d8ca8c84",
   "metadata": {},
   "outputs": [
    {
     "data": {
      "text/plain": [
       "'if\\nif else\\nif elif else\\nNested if\\n'"
      ]
     },
     "execution_count": 12,
     "metadata": {},
     "output_type": "execute_result"
    }
   ],
   "source": [
    "'''if\n",
    "if else\n",
    "if elif else\n",
    "Nested if\n",
    "'''#these are the various decision making statements which are conditionals\""
   ]
  },
  {
   "cell_type": "code",
   "execution_count": 13,
   "id": "9a22f421-5c70-4490-91c9-2c8c6d3543ad",
   "metadata": {},
   "outputs": [
    {
     "name": "stdout",
     "output_type": "stream",
     "text": [
      "if the statement is true then this get's executed\n"
     ]
    }
   ],
   "source": [
    "if True:\n",
    "    print(\"if the statement is true then this get's executed\")"
   ]
  },
  {
   "cell_type": "code",
   "execution_count": 14,
   "id": "427ba21a-7809-49a2-bbdc-6f670e93e9bf",
   "metadata": {},
   "outputs": [
    {
     "data": {
      "text/plain": [
       "True"
      ]
     },
     "execution_count": 14,
     "metadata": {},
     "output_type": "execute_result"
    }
   ],
   "source": [
    "12>2#this is comparision and is true"
   ]
  },
  {
   "cell_type": "code",
   "execution_count": 15,
   "id": "dd017be0-fb44-4101-bf26-2696d7400c2f",
   "metadata": {},
   "outputs": [
    {
     "name": "stdin",
     "output_type": "stream",
     "text": [
      "Enter the name vishal\n"
     ]
    },
    {
     "name": "stdout",
     "output_type": "stream",
     "text": [
      "vishal\n"
     ]
    }
   ],
   "source": [
    "name=input(\"Enter the name\")#this is to take input from user\n",
    "print(name)#this to display that taken input from user"
   ]
  },
  {
   "cell_type": "code",
   "execution_count": 17,
   "id": "488f37a3-37ea-4466-86f4-4c36ddf24a0c",
   "metadata": {},
   "outputs": [
    {
     "name": "stdin",
     "output_type": "stream",
     "text": [
      "enter the age 19\n"
     ]
    },
    {
     "name": "stdout",
     "output_type": "stream",
     "text": [
      "19\n"
     ]
    }
   ],
   "source": [
    "age=int(input(\"enter the age\"))#this is entering the input of age of int type\n",
    "print(age)"
   ]
  },
  {
   "cell_type": "code",
   "execution_count": 19,
   "id": "9d1bd2d4-6252-4348-8d18-f3b30948ab89",
   "metadata": {},
   "outputs": [
    {
     "name": "stdout",
     "output_type": "stream",
     "text": [
      "False\n",
      "True\n"
     ]
    }
   ],
   "source": [
    "print(True and False) #is still false\n",
    "print(True or False)#is true because of or"
   ]
  },
  {
   "cell_type": "code",
   "execution_count": 20,
   "id": "72f02fb7-05ad-4a66-ab28-43a84a3fd0a5",
   "metadata": {},
   "outputs": [
    {
     "name": "stdin",
     "output_type": "stream",
     "text": [
      "enter the age: 12\n"
     ]
    },
    {
     "name": "stdout",
     "output_type": "stream",
     "text": [
      "you are not eligible\n"
     ]
    }
   ],
   "source": [
    "#enter the age to check voting is possible or not\n",
    "#if greater than 18 possible or else no\n",
    "age=int(input(\"enter the age:\"))\n",
    "if(age>=18):\n",
    "    print(\"it is possible to vote\")\n",
    "else:\n",
    "    print(\"you are not eligible\")\n",
    "#else is an empty block which directly executes when the if fails to execute"
   ]
  },
  {
   "cell_type": "code",
   "execution_count": 21,
   "id": "f6e85b54-6265-44f4-b41e-6c75de07b221",
   "metadata": {},
   "outputs": [
    {
     "data": {
      "text/plain": [
       "1000"
      ]
     },
     "execution_count": 21,
     "metadata": {},
     "output_type": "execute_result"
    }
   ],
   "source": [
    "int((20/100)*5000)#this is first priority to paranthesis which is 20/100 which is 0.2 now \n",
    "#0.2 * 5000 is 1000\n"
   ]
  },
  {
   "cell_type": "code",
   "execution_count": 22,
   "id": "5d501fd1-fb2a-46e9-9607-8b154c75ecc8",
   "metadata": {},
   "outputs": [],
   "source": [
    "## mall - input the product price\n",
    "## product >1000 rs 20% off\n",
    "## print the product price after removing the discount\n",
    "## product <=1000 rs 30% off\n",
    "## print the product price after removing the discount\n",
    "#problem statement 1"
   ]
  },
  {
   "cell_type": "code",
   "execution_count": 23,
   "id": "c6a40902-290e-46c2-bb08-11b88bf58334",
   "metadata": {},
   "outputs": [
    {
     "name": "stdin",
     "output_type": "stream",
     "text": [
      "Enter the price 1001\n"
     ]
    },
    {
     "name": "stdout",
     "output_type": "stream",
     "text": [
      "The price of the product is 800.8000000000001\n"
     ]
    }
   ],
   "source": [
    "product_price=int(input(\"Enter the price\"))\n",
    "if product_price>1000:\n",
    "    print(\"The price of the product is {}\".format(product_price*0.8))\n",
    "else:\n",
    "    print(\"The price of the product is {}\".format(product_price*0.7))"
   ]
  },
  {
   "cell_type": "code",
   "execution_count": 24,
   "id": "71eb9676-6667-4c37-ae59-ae12a03d09aa",
   "metadata": {},
   "outputs": [],
   "source": [
    "## mall - input the product price\n",
    "## product >3000 rs 20% off\n",
    "## price is ==4000 you get a trip to Goa\n",
    "## print the product price after removing the discount\n",
    "## product >=2000 rs and <=3000 30% off\n",
    "## print the product price after removing the discount\n",
    "## price ==2999  u will get adiitional gift\n",
    "## product 100 rs and <=2000 40% off\n",
    "## print the product price after removing the discount\n",
    "#this is problem statement 2"
   ]
  },
  {
   "cell_type": "code",
   "execution_count": 25,
   "id": "fa2c33cd-6ce1-4008-a6a3-be04c96cfed3",
   "metadata": {},
   "outputs": [
    {
     "name": "stdin",
     "output_type": "stream",
     "text": [
      "Enter the price 1021\n"
     ]
    },
    {
     "name": "stdout",
     "output_type": "stream",
     "text": [
      "The price of the product is 612.6\n"
     ]
    }
   ],
   "source": [
    "product_price=int(input(\"Enter the price\"))\n",
    "if product_price>3000:\n",
    "    if product_price==4000:\n",
    "        print(\"Congratulations you get a Goa Trip\")\n",
    "    print(f\"The price of the product is {product_price*0.8}\")\n",
    "elif product_price>=2000 and product_price<=3000:\n",
    "    if product_price==2999:\n",
    "        print(\"Congratulations you get an additional gift\")\n",
    "    print(f\"The price of the product is {product_price*0.7}\")\n",
    "elif product_price>=100 and product_price<2000:\n",
    "    print(f\"The price of the product is {product_price*0.6}\")\n",
    "else:\n",
    "    print(\"Lets drink tea\")\n",
    "    print(\"I will also be there\")\n",
    "    "
   ]
  },
  {
   "cell_type": "code",
   "execution_count": 26,
   "id": "64c75704-c331-4e2b-bfa9-ab2eb9a57d3a",
   "metadata": {},
   "outputs": [
    {
     "name": "stdout",
     "output_type": "stream",
     "text": [
      "True\n",
      "False\n"
     ]
    }
   ],
   "source": [
    "#>,>=,== all these are comparision operators\n",
    "print(5==5)#this is true\n",
    "print(5!=5)#this is false"
   ]
  },
  {
   "cell_type": "code",
   "execution_count": 27,
   "id": "160850ce-08b1-4041-8e5e-aafc1137bc2e",
   "metadata": {},
   "outputs": [
    {
     "name": "stdin",
     "output_type": "stream",
     "text": [
      "Enter the number 123\n"
     ]
    },
    {
     "name": "stdout",
     "output_type": "stream",
     "text": [
      "Value is less than equal to 999\n"
     ]
    }
   ],
   "source": [
    "## Single statement Suites\n",
    "val=int(input('Enter the number'))\n",
    "if(val<=999):print(\"Value is less than equal to 999\")\n",
    "else:\n",
    "    print(\"Go Home\")#this is single statement suits"
   ]
  },
  {
   "cell_type": "code",
   "execution_count": 28,
   "id": "10c94e66-c7fb-4cda-b457-c7404949f469",
   "metadata": {},
   "outputs": [],
   "source": [
    "#looping statements are \n",
    "#for\n",
    "#while\n",
    "#nested for\n",
    "#loop breaking statements"
   ]
  },
  {
   "cell_type": "code",
   "execution_count": 29,
   "id": "50d5b2e9-dedf-4493-89c4-dc2103a77bef",
   "metadata": {},
   "outputs": [
    {
     "name": "stdout",
     "output_type": "stream",
     "text": [
      "25\n",
      "26\n",
      "27\n",
      "28\n",
      "29\n",
      "30\n",
      "31\n",
      "32\n",
      "33\n",
      "34\n",
      "35\n",
      "36\n",
      "37\n",
      "38\n",
      "39\n",
      "40\n",
      "41\n",
      "42\n",
      "43\n",
      "44\n",
      "45\n",
      "46\n",
      "47\n",
      "48\n",
      "49\n",
      "50\n",
      "51\n",
      "52\n",
      "53\n",
      "54\n",
      "55\n",
      "56\n",
      "57\n",
      "58\n",
      "59\n",
      "60\n",
      "Its time for retirement\n"
     ]
    }
   ],
   "source": [
    "# while loop while-else\n",
    "joining_age=25\n",
    "while joining_age<=60:\n",
    "    print(joining_age)\n",
    "    joining_age=joining_age+1\n",
    "    \n",
    "else:\n",
    "    print(\"Its time for retirement\")\n",
    "#once while loop even for one time it stops executing once it becomes false then exit"
   ]
  },
  {
   "cell_type": "code",
   "execution_count": 30,
   "id": "001e2630-4402-485c-98ab-5b6d266d1877",
   "metadata": {},
   "outputs": [],
   "source": [
    "#while else is always when once while loop is stopped then it goes to else\n",
    "#but same if we stop while loop because of break then there is no else execution"
   ]
  },
  {
   "cell_type": "code",
   "execution_count": 31,
   "id": "f4de9229-831c-4dbe-b82d-fcec265f36c5",
   "metadata": {},
   "outputs": [
    {
     "name": "stdout",
     "output_type": "stream",
     "text": [
      "[1, 'v', True, -1]\n"
     ]
    }
   ],
   "source": [
    "#list is container which stores values of different datatypes\n",
    "l=[1,\"v\",True,-1]\n",
    "print(l)"
   ]
  },
  {
   "cell_type": "code",
   "execution_count": 32,
   "id": "1ba7108c-8d17-4256-9b2c-e21236a4537b",
   "metadata": {},
   "outputs": [
    {
     "name": "stdout",
     "output_type": "stream",
     "text": [
      "1\n"
     ]
    }
   ],
   "source": [
    "print(l[0])#this gives the first element"
   ]
  },
  {
   "cell_type": "code",
   "execution_count": 33,
   "id": "1d9af22a-a720-4f2a-8ea8-dc26dff4c9d0",
   "metadata": {},
   "outputs": [
    {
     "name": "stdout",
     "output_type": "stream",
     "text": [
      "-1\n"
     ]
    }
   ],
   "source": [
    "print(l[3])#this gives the last element"
   ]
  },
  {
   "cell_type": "code",
   "execution_count": 34,
   "id": "2cd3a8a3-4708-4155-9a6f-c460635037da",
   "metadata": {},
   "outputs": [
    {
     "name": "stdout",
     "output_type": "stream",
     "text": [
      "1\n",
      "v\n",
      "True\n",
      "-1\n"
     ]
    }
   ],
   "source": [
    "for i in l:\n",
    "    print(i)#this is execution of each element in list"
   ]
  },
  {
   "cell_type": "code",
   "execution_count": 35,
   "id": "75c615b7-031b-4233-accb-1551495476ea",
   "metadata": {},
   "outputs": [
    {
     "name": "stdout",
     "output_type": "stream",
     "text": [
      "Mango\n",
      "Cherry\n",
      "The fruit is cherry\n",
      "Apple\n",
      "Papaya\n",
      "Banana\n"
     ]
    }
   ],
   "source": [
    "fruits_list = [\"Mango\",\"Cherry\",\"Apple\",\"Papaya\",\"Banana\"]\n",
    "for a in fruits_list:\n",
    "    print(a)\n",
    "    if a==\"Cherry\":\n",
    "        print(\"The fruit is cherry\")\n",
    "        #if this is when cherry then print this statement also\n",
    "        #but if cherry then print this statement also"
   ]
  },
  {
   "cell_type": "code",
   "execution_count": 36,
   "id": "3fbfe6cd-bfc9-4df7-bb06-3dada494cfad",
   "metadata": {},
   "outputs": [
    {
     "name": "stdout",
     "output_type": "stream",
     "text": [
      "m\n",
      "a\n",
      "n\n",
      "g\n",
      "o\n"
     ]
    }
   ],
   "source": [
    "fruit='mango'\n",
    "for x in fruit:\n",
    "    print(x)#this prints each letter in string"
   ]
  },
  {
   "cell_type": "code",
   "execution_count": 37,
   "id": "7b9a2b4e-8209-4125-8f29-ebac88c5bd5b",
   "metadata": {},
   "outputs": [
    {
     "data": {
      "text/plain": [
       "'n'"
      ]
     },
     "execution_count": 37,
     "metadata": {},
     "output_type": "execute_result"
    }
   ],
   "source": [
    "fruit[2]#this gives the third element"
   ]
  },
  {
   "cell_type": "code",
   "execution_count": 38,
   "id": "ed5ec8eb-844b-4269-974c-e0a1e4b0a609",
   "metadata": {},
   "outputs": [
    {
     "name": "stdout",
     "output_type": "stream",
     "text": [
      "1\n",
      "2\n",
      "3\n",
      "4\n",
      "5\n",
      "6\n",
      "7\n",
      "8\n",
      "9\n"
     ]
    }
   ],
   "source": [
    "for i in range(1,10):\n",
    "    print(i)#this gives element from start to end-1\n",
    "    #here start is 1\n",
    "    #end is 10\n",
    "    #1 to 9"
   ]
  },
  {
   "cell_type": "code",
   "execution_count": 39,
   "id": "55cdbc53-8297-435a-9775-c81a32c3b33c",
   "metadata": {},
   "outputs": [
    {
     "name": "stdout",
     "output_type": "stream",
     "text": [
      "0\n",
      "2\n",
      "4\n",
      "6\n"
     ]
    }
   ],
   "source": [
    "for i in range(0,7,2):\n",
    "    print(i)#this is start,end,step\n",
    "    #here step value is 2\n",
    "    #so it moves from 0 2 4 6"
   ]
  },
  {
   "cell_type": "code",
   "execution_count": 43,
   "id": "35ca44a8-3b37-4ba0-a89e-2933b706fc69",
   "metadata": {},
   "outputs": [
    {
     "name": "stdout",
     "output_type": "stream",
     "text": [
      "* \n",
      "* * \n",
      "* * * \n",
      "* * * * \n",
      "* * * * * \n",
      "* * * * * * \n",
      "* * * * * * * \n"
     ]
    }
   ],
   "source": [
    "n=7\n",
    "\n",
    "for i in range(0,n):\n",
    "    for j in range(0,i+1):\n",
    "        print(\"*\",end=\" \")#end is making general default \\n to space occupy\n",
    "    print(\"\\r\")#this gives same as print() which is new line"
   ]
  },
  {
   "cell_type": "code",
   "execution_count": 44,
   "id": "ea61c8e7-065a-4c48-83b6-5a03595cd143",
   "metadata": {},
   "outputs": [],
   "source": [
    "##Loop controls\n",
    "## Break and continue\n",
    "fruits_list = [\"Mango\",\"Cherry\",\"Apple\",\"Papaya\",\"Banana\"]\n"
   ]
  },
  {
   "cell_type": "code",
   "execution_count": 46,
   "id": "39775d75-8fac-401c-85d1-59ae8430ece6",
   "metadata": {},
   "outputs": [
    {
     "name": "stdout",
     "output_type": "stream",
     "text": [
      "Mango\n",
      "Cherry\n",
      "The fruit is apple\n"
     ]
    }
   ],
   "source": [
    "for i in fruits_list:\n",
    "    if i==\"Apple\":\n",
    "        print(\"The fruit is apple\")\n",
    "        break\n",
    "    print(i)#if fruit is apple directly break out of loop immediately"
   ]
  },
  {
   "cell_type": "code",
   "execution_count": 47,
   "id": "4e227bcf-c1a5-4a64-9a92-f37669a957e1",
   "metadata": {},
   "outputs": [
    {
     "name": "stdout",
     "output_type": "stream",
     "text": [
      "Mango\n",
      "Cherry\n",
      "The fruit is apple\n",
      "Apple\n",
      "Papaya\n",
      "Banana\n"
     ]
    }
   ],
   "source": [
    "for i in fruits_list:\n",
    "    if i==\"Apple\":\n",
    "        print(\"The fruit is apple\")\n",
    "        pass\n",
    "    print(i)#pass is just like making it to move forward basically we use this to acoid loop to be empty"
   ]
  },
  {
   "cell_type": "code",
   "execution_count": 48,
   "id": "fb7b7e59-bbc2-48e3-a799-8499706fc604",
   "metadata": {},
   "outputs": [
    {
     "name": "stdout",
     "output_type": "stream",
     "text": [
      "Mango\n",
      "Cherry\n",
      "The fruit is apple\n",
      "Papaya\n",
      "Banana\n"
     ]
    }
   ],
   "source": [
    "##continue\n",
    "for i in fruits_list:\n",
    "    if i==\"Apple\":\n",
    "        print(\"The fruit is apple\")\n",
    "        continue\n",
    "    print(i)#continue is skipping the further down iteration and going to next one"
   ]
  },
  {
   "cell_type": "code",
   "execution_count": null,
   "id": "273f80bc-bbd2-42b3-9259-f1ca69d43a71",
   "metadata": {},
   "outputs": [],
   "source": []
  }
 ],
 "metadata": {
  "kernelspec": {
   "display_name": "Python 3 (ipykernel)",
   "language": "python",
   "name": "python3"
  },
  "language_info": {
   "codemirror_mode": {
    "name": "ipython",
    "version": 3
   },
   "file_extension": ".py",
   "mimetype": "text/x-python",
   "name": "python",
   "nbconvert_exporter": "python",
   "pygments_lexer": "ipython3",
   "version": "3.10.8"
  }
 },
 "nbformat": 4,
 "nbformat_minor": 5
}
