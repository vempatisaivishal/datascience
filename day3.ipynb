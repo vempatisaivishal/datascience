{
 "cells": [
  {
   "cell_type": "code",
   "execution_count": 1,
   "id": "3ec3296b-3d06-4f36-a334-69e3bdd99b94",
   "metadata": {},
   "outputs": [
    {
     "name": "stdout",
     "output_type": "stream",
     "text": [
      "True\n",
      "False\n"
     ]
    }
   ],
   "source": [
    "#logical operators\n",
    "#and or not\n",
    "print(True and True)#then only True\n",
    "print(False or False)#then only False"
   ]
  },
  {
   "cell_type": "code",
   "execution_count": 2,
   "id": "f0167269-f4a4-47e0-9f2b-0fe9408659a5",
   "metadata": {},
   "outputs": [
    {
     "name": "stdout",
     "output_type": "stream",
     "text": [
      "False\n"
     ]
    }
   ],
   "source": [
    "print(not(True))#this is negation of our statement"
   ]
  },
  {
   "cell_type": "code",
   "execution_count": 3,
   "id": "21f30c8c-96da-490a-b6d2-27bc88ee41e0",
   "metadata": {},
   "outputs": [
    {
     "name": "stdout",
     "output_type": "stream",
     "text": [
      "my boolean is False\n"
     ]
    }
   ],
   "source": [
    "print(f\"my boolean is {False}\")#this will put boolean in string"
   ]
  },
  {
   "cell_type": "code",
   "execution_count": 4,
   "id": "33a0beb1-974c-4868-a677-ee59897ba708",
   "metadata": {},
   "outputs": [
    {
     "name": "stdout",
     "output_type": "stream",
     "text": [
      "my boolean is True\n"
     ]
    }
   ],
   "source": [
    "print(f\"my boolean is {not False}\")#this will print not of boolean "
   ]
  },
  {
   "cell_type": "code",
   "execution_count": 5,
   "id": "dc5a898f-6e16-47e4-98be-8dffb01668ce",
   "metadata": {},
   "outputs": [
    {
     "name": "stdout",
     "output_type": "stream",
     "text": [
      "True\n"
     ]
    }
   ],
   "source": [
    "print(not(bool(0)))"
   ]
  },
  {
   "cell_type": "code",
   "execution_count": 6,
   "id": "047a620c-45ea-4acd-900c-3ee0c7a2a947",
   "metadata": {},
   "outputs": [
    {
     "name": "stdout",
     "output_type": "stream",
     "text": [
      "True\n"
     ]
    }
   ],
   "source": [
    "print(not(0))#this also gives True"
   ]
  },
  {
   "cell_type": "code",
   "execution_count": 8,
   "id": "fcd2bc18-7c0c-4666-b4f8-0ce6bb81c8a3",
   "metadata": {},
   "outputs": [
    {
     "data": {
      "text/plain": [
       "False"
      ]
     },
     "execution_count": 8,
     "metadata": {},
     "output_type": "execute_result"
    }
   ],
   "source": [
    "not 2#any number except is 0 not is False"
   ]
  },
  {
   "cell_type": "code",
   "execution_count": 9,
   "id": "40320b51-1227-4778-9a70-fbf7568e7d6a",
   "metadata": {},
   "outputs": [
    {
     "data": {
      "text/plain": [
       "1"
      ]
     },
     "execution_count": 9,
     "metadata": {},
     "output_type": "execute_result"
    }
   ],
   "source": [
    "int(True)#this gives 1"
   ]
  },
  {
   "cell_type": "code",
   "execution_count": 10,
   "id": "a3adc511-b42b-405a-94c0-4656f779e9de",
   "metadata": {},
   "outputs": [
    {
     "data": {
      "text/plain": [
       "0"
      ]
     },
     "execution_count": 10,
     "metadata": {},
     "output_type": "execute_result"
    }
   ],
   "source": [
    "int(False)#this gives 0"
   ]
  },
  {
   "cell_type": "code",
   "execution_count": 11,
   "id": "6c3d07ec-9543-49f7-84a9-14fe3e774650",
   "metadata": {},
   "outputs": [
    {
     "name": "stdout",
     "output_type": "stream",
     "text": [
      "True\n"
     ]
    }
   ],
   "source": [
    "print(bool(not 0))#now not 0 is True so bool of True is  True"
   ]
  },
  {
   "cell_type": "code",
   "execution_count": 13,
   "id": "e6d8333b-c58d-4169-9a43-31f4ea0bff02",
   "metadata": {},
   "outputs": [
    {
     "name": "stdout",
     "output_type": "stream",
     "text": [
      "boolean of negative also True True\n"
     ]
    }
   ],
   "source": [
    "print(f\"boolean of negative also True { bool(-5)}\")"
   ]
  },
  {
   "cell_type": "code",
   "execution_count": 14,
   "id": "29ca2339-ea7e-406a-b422-e601bdb79d0e",
   "metadata": {},
   "outputs": [
    {
     "name": "stdout",
     "output_type": "stream",
     "text": [
      "True\n",
      "False\n"
     ]
    }
   ],
   "source": [
    "print(bool(0.11))#this is True\n",
    "print(bool(0.00))#this is False"
   ]
  },
  {
   "cell_type": "code",
   "execution_count": 15,
   "id": "9e42468c-cffa-470c-a89b-479cc7998352",
   "metadata": {},
   "outputs": [
    {
     "name": "stdout",
     "output_type": "stream",
     "text": [
      "0\n"
     ]
    }
   ],
   "source": [
    "#logical and\n",
    "print(True * False)#this is False\n"
   ]
  },
  {
   "cell_type": "code",
   "execution_count": 17,
   "id": "3c8d3ba1-75ef-440b-b869-9a265ea6dd19",
   "metadata": {},
   "outputs": [
    {
     "name": "stdout",
     "output_type": "stream",
     "text": [
      "1\n"
     ]
    }
   ],
   "source": [
    "print(True +False)#this is True same as logical or"
   ]
  },
  {
   "cell_type": "code",
   "execution_count": 19,
   "id": "51b50c8c-f2a0-45c3-9b2e-042396fa4a7d",
   "metadata": {},
   "outputs": [
    {
     "data": {
      "text/plain": [
       "1"
      ]
     },
     "execution_count": 19,
     "metadata": {},
     "output_type": "execute_result"
    }
   ],
   "source": [
    "(not(True))+True#this is True"
   ]
  },
  {
   "cell_type": "code",
   "execution_count": 21,
   "id": "c6726c2e-4003-45a5-9219-af39aa4383c9",
   "metadata": {},
   "outputs": [
    {
     "data": {
      "text/plain": [
       "True"
      ]
     },
     "execution_count": 21,
     "metadata": {},
     "output_type": "execute_result"
    }
   ],
   "source": [
    "not True *False #this is taking as True *False is False now not False is True"
   ]
  },
  {
   "cell_type": "code",
   "execution_count": 22,
   "id": "8910dfac-23e6-4ed1-9f89-32216ca9a333",
   "metadata": {},
   "outputs": [],
   "source": [
    "#() bracket takes the highest precedence"
   ]
  },
  {
   "cell_type": "code",
   "execution_count": 23,
   "id": "6126c3aa-7b87-43fe-819d-082a77c862f8",
   "metadata": {},
   "outputs": [
    {
     "data": {
      "text/plain": [
       "True"
      ]
     },
     "execution_count": 23,
     "metadata": {},
     "output_type": "execute_result"
    }
   ],
   "source": [
    "not False*False==True#this is False*False==True which is wrong so not False True"
   ]
  },
  {
   "cell_type": "code",
   "execution_count": 24,
   "id": "33ade8ee-b119-40b2-9ecf-d6a924d57784",
   "metadata": {},
   "outputs": [],
   "source": [
    "#no bracket then taking whole not at a time"
   ]
  },
  {
   "cell_type": "code",
   "execution_count": 25,
   "id": "e2330e08-9499-4142-ba6d-3d64994c797d",
   "metadata": {},
   "outputs": [
    {
     "data": {
      "text/plain": [
       "14.0"
      ]
     },
     "execution_count": 25,
     "metadata": {},
     "output_type": "execute_result"
    }
   ],
   "source": [
    "#BODMAS is precedence order in python language\n",
    "2*3+40/5#this leads to 40/5 is 8.0 and 8.0+6 is 14.0"
   ]
  },
  {
   "cell_type": "code",
   "execution_count": 26,
   "id": "0e816142-4584-4e51-92e6-ede48e6c6c0b",
   "metadata": {},
   "outputs": [
    {
     "name": "stdout",
     "output_type": "stream",
     "text": [
      "0\n",
      "1\n"
     ]
    }
   ],
   "source": [
    "print(0*1)#this is 0\n",
    "print(True+False)#this is 1"
   ]
  },
  {
   "cell_type": "code",
   "execution_count": 28,
   "id": "e367826a-6a20-4f4d-bea8-266872a149a7",
   "metadata": {},
   "outputs": [
    {
     "name": "stdout",
     "output_type": "stream",
     "text": [
      "False\n",
      "True\n"
     ]
    }
   ],
   "source": [
    "lst1=[1,2,3,4]\n",
    "lst2=[1,2,3,4]\n",
    "print(lst1 is lst2)#equality operator\n",
    "#is is when same object then True different variable then False\n",
    "print(lst1==lst2)#this is True"
   ]
  },
  {
   "cell_type": "code",
   "execution_count": 29,
   "id": "d3845ba6-1d41-4dd2-a21f-054d5d8425a8",
   "metadata": {},
   "outputs": [
    {
     "name": "stdout",
     "output_type": "stream",
     "text": [
      "True\n",
      "False\n"
     ]
    }
   ],
   "source": [
    "print(lst1 is not lst2)#this is True\n",
    "print(lst2!=lst2)#this is False"
   ]
  },
  {
   "cell_type": "code",
   "execution_count": 31,
   "id": "be7fd16c-c245-4534-ada4-eaee7a29b31c",
   "metadata": {},
   "outputs": [
    {
     "name": "stdout",
     "output_type": "stream",
     "text": [
      "140430198677376\n",
      "140430198629376\n"
     ]
    }
   ],
   "source": [
    "print(id(lst1))#this is address of lst1\n",
    "print(id(lst2))#this is address of lst2"
   ]
  },
  {
   "cell_type": "code",
   "execution_count": 32,
   "id": "0e2f72d8-40d5-43b8-b76a-67535c0fc2b1",
   "metadata": {},
   "outputs": [
    {
     "name": "stdout",
     "output_type": "stream",
     "text": [
      "True\n"
     ]
    }
   ],
   "source": [
    "l1=[1,2,3,4]\n",
    "l2=l1#now same id\n",
    "print(id(l1)==id(l2))#same address"
   ]
  },
  {
   "cell_type": "code",
   "execution_count": 33,
   "id": "6ab9831e-3386-43fb-92a3-80c115e65bdb",
   "metadata": {},
   "outputs": [],
   "source": [
    "#== checks value where is will check even address also"
   ]
  },
  {
   "cell_type": "code",
   "execution_count": 34,
   "id": "299ba672-42b0-492e-96fc-0bb52d2748bf",
   "metadata": {},
   "outputs": [
    {
     "name": "stdout",
     "output_type": "stream",
     "text": [
      "True\n"
     ]
    }
   ],
   "source": [
    "a=2\n",
    "b=2\n",
    "print(id(a)==id(b))#now address same"
   ]
  },
  {
   "cell_type": "code",
   "execution_count": 35,
   "id": "d1ffe76f-67bc-4395-a1f0-cbd2ecaae507",
   "metadata": {},
   "outputs": [
    {
     "name": "stdout",
     "output_type": "stream",
     "text": [
      "True\n"
     ]
    }
   ],
   "source": [
    "print(a is b)#now we have True"
   ]
  },
  {
   "cell_type": "code",
   "execution_count": 37,
   "id": "c2579d62-52c5-41bc-845d-94bc46ff5ac0",
   "metadata": {},
   "outputs": [
    {
     "name": "stdout",
     "output_type": "stream",
     "text": [
      "True\n"
     ]
    }
   ],
   "source": [
    "x=\"vishal\"\n",
    "y=\"vishal\"\n",
    "print(id(x)==id(y))#this is True#now immutable address same"
   ]
  },
  {
   "cell_type": "code",
   "execution_count": 38,
   "id": "d4979ad8-ca26-4a01-b1a4-76b81f1058e7",
   "metadata": {},
   "outputs": [],
   "source": [
    "#mutuable objects have same values then also different address\n",
    "#where as immutuable then same values same address"
   ]
  },
  {
   "cell_type": "code",
   "execution_count": 39,
   "id": "cce7e9c9-5566-4d3c-a8b4-4db5921ff5dc",
   "metadata": {},
   "outputs": [
    {
     "name": "stdout",
     "output_type": "stream",
     "text": [
      "my value is True\n"
     ]
    }
   ],
   "source": [
    "##comparision operatrions\n",
    "print(f\"my value is {150<200}\")#this is True"
   ]
  },
  {
   "cell_type": "code",
   "execution_count": 40,
   "id": "6903f759-c2de-46c3-8ea2-5073701cb768",
   "metadata": {},
   "outputs": [
    {
     "name": "stdout",
     "output_type": "stream",
     "text": [
      "1\n"
     ]
    }
   ],
   "source": [
    "#arthimetic operations\n",
    "print(3//2)#this is floor division"
   ]
  },
  {
   "cell_type": "code",
   "execution_count": 41,
   "id": "018b457f-66b2-4c8e-97a0-170f77f56dff",
   "metadata": {},
   "outputs": [
    {
     "name": "stdout",
     "output_type": "stream",
     "text": [
      "1\n"
     ]
    }
   ],
   "source": [
    "print(3%2)#this is remainder"
   ]
  },
  {
   "cell_type": "code",
   "execution_count": 42,
   "id": "60568c11-ca78-47c8-8374-6d6d78147e56",
   "metadata": {},
   "outputs": [
    {
     "name": "stdout",
     "output_type": "stream",
     "text": [
      "2\n"
     ]
    }
   ],
   "source": [
    "print(5//2)#this is quotient"
   ]
  },
  {
   "cell_type": "code",
   "execution_count": 43,
   "id": "a5086028-6c7b-45ff-9a1f-555d2bacdddb",
   "metadata": {},
   "outputs": [
    {
     "name": "stdout",
     "output_type": "stream",
     "text": [
      "2.5\n"
     ]
    }
   ],
   "source": [
    "print(5/2)#this gives 5/2 as 2.5"
   ]
  },
  {
   "cell_type": "code",
   "execution_count": 44,
   "id": "e486aa56-a186-441e-a5d6-523bcf9dc1a2",
   "metadata": {},
   "outputs": [
    {
     "name": "stdout",
     "output_type": "stream",
     "text": [
      "0b1100\n"
     ]
    }
   ],
   "source": [
    "#bitwise operators\n",
    "print(bin(12))#this gives binary of 12"
   ]
  },
  {
   "cell_type": "code",
   "execution_count": 45,
   "id": "3c2c37b0-25b3-4942-8852-53c093301550",
   "metadata": {},
   "outputs": [
    {
     "name": "stdout",
     "output_type": "stream",
     "text": [
      "-13\n"
     ]
    }
   ],
   "source": [
    "print(~12)#this gives -13"
   ]
  },
  {
   "cell_type": "code",
   "execution_count": 46,
   "id": "e0982d23-4d27-4984-935a-f79db1300325",
   "metadata": {},
   "outputs": [
    {
     "name": "stdout",
     "output_type": "stream",
     "text": [
      "-100\n"
     ]
    }
   ],
   "source": [
    "print(~99)#this gives -100"
   ]
  },
  {
   "cell_type": "code",
   "execution_count": 49,
   "id": "a4f597f8-7922-4666-9c22-6186aff4b706",
   "metadata": {},
   "outputs": [
    {
     "name": "stdout",
     "output_type": "stream",
     "text": [
      "0b1000\n"
     ]
    }
   ],
   "source": [
    "##datastructures\n",
    "#1string\n",
    "print(bin(12&10))#this is bin 12 and 10"
   ]
  },
  {
   "cell_type": "code",
   "execution_count": 50,
   "id": "aaf7cea2-890d-4f21-b89b-28b297daed99",
   "metadata": {},
   "outputs": [],
   "source": [
    "#leftwise << and rightwise >>"
   ]
  },
  {
   "cell_type": "code",
   "execution_count": 51,
   "id": "b5c7b122-6c33-4971-9fee-6b2b674c03b5",
   "metadata": {},
   "outputs": [
    {
     "name": "stdout",
     "output_type": "stream",
     "text": [
      "vishal hello\n"
     ]
    }
   ],
   "source": [
    "a=\"vishal\"\n",
    "b='hello'\n",
    "#both above are string\n",
    "print(a,b)"
   ]
  },
  {
   "cell_type": "code",
   "execution_count": 52,
   "id": "1e4de6f7-6560-4cd6-9525-7fb6f0bcacdd",
   "metadata": {},
   "outputs": [
    {
     "name": "stdout",
     "output_type": "stream",
     "text": [
      "<class 'str'>\n"
     ]
    }
   ],
   "source": [
    "print(type(a))#this gives type of a"
   ]
  },
  {
   "cell_type": "code",
   "execution_count": 53,
   "id": "3ab0c964-1348-463e-ac93-83bdc0dcda88",
   "metadata": {},
   "outputs": [],
   "source": [
    "#we cannot change elements present in strings index wise so it is immutuable"
   ]
  },
  {
   "cell_type": "code",
   "execution_count": 57,
   "id": "763c1433-e085-4f8d-8c19-f1630809502b",
   "metadata": {},
   "outputs": [
    {
     "name": "stdout",
     "output_type": "stream",
     "text": [
      "Hello\n",
      "Hello\n"
     ]
    }
   ],
   "source": [
    "a=\"hello\"\n",
    "a=a.capitalize()\n",
    "print(a)#capitalize makes first as capital\n",
    "a=a.title()\n",
    "print(a)#this makes same as capital"
   ]
  },
  {
   "cell_type": "code",
   "execution_count": 58,
   "id": "b62f1677-3e46-40de-beac-32d6913c8aae",
   "metadata": {},
   "outputs": [
    {
     "name": "stdout",
     "output_type": "stream",
     "text": [
      "llo\n"
     ]
    }
   ],
   "source": [
    "print(a[2:])#this goes from3rd element to last"
   ]
  },
  {
   "cell_type": "code",
   "execution_count": 59,
   "id": "6899f8ea-8ffd-46e8-a1c1-fa2faf07b71a",
   "metadata": {},
   "outputs": [
    {
     "name": "stdout",
     "output_type": "stream",
     "text": [
      "Hell\n"
     ]
    }
   ],
   "source": [
    "print(a[:4])#this is start to 4th"
   ]
  },
  {
   "cell_type": "code",
   "execution_count": 60,
   "id": "aa98f2d5-2dcc-4087-b9e1-023a46df9f9d",
   "metadata": {},
   "outputs": [
    {
     "name": "stdout",
     "output_type": "stream",
     "text": [
      "o\n"
     ]
    }
   ],
   "source": [
    "print(a[-1])#this gives last one"
   ]
  },
  {
   "cell_type": "code",
   "execution_count": 61,
   "id": "a1debdb7-6d66-4700-9359-02856eafad55",
   "metadata": {},
   "outputs": [
    {
     "name": "stdout",
     "output_type": "stream",
     "text": [
      "H\n"
     ]
    }
   ],
   "source": [
    "print(a[0])#this gives first element"
   ]
  },
  {
   "cell_type": "code",
   "execution_count": 62,
   "id": "ba700523-0522-4032-a138-2bc6d0725b2f",
   "metadata": {},
   "outputs": [
    {
     "name": "stdout",
     "output_type": "stream",
     "text": [
      "llo\n"
     ]
    }
   ],
   "source": [
    "print(a[-3:])#this is len(a)-3 to last 2:all"
   ]
  },
  {
   "cell_type": "code",
   "execution_count": 63,
   "id": "808d1d5f-6e09-4127-a029-79bc81f543fb",
   "metadata": {},
   "outputs": [
    {
     "name": "stdout",
     "output_type": "stream",
     "text": [
      "Hell\n"
     ]
    }
   ],
   "source": [
    "print(a[:-1])#read everything except last one"
   ]
  },
  {
   "cell_type": "code",
   "execution_count": 64,
   "id": "6045fad8-ff5f-48a1-9660-eeb39bb4c65e",
   "metadata": {},
   "outputs": [
    {
     "name": "stdout",
     "output_type": "stream",
     "text": [
      "ell\n"
     ]
    }
   ],
   "source": [
    "print(a[1:-1])#this is 1 to 5-1-> 1 to 4->ell "
   ]
  },
  {
   "cell_type": "code",
   "execution_count": 67,
   "id": "91aa81e4-13b1-4033-8370-e8b41f03603b",
   "metadata": {},
   "outputs": [
    {
     "name": "stdout",
     "output_type": "stream",
     "text": [
      "olleH\n"
     ]
    }
   ],
   "source": [
    "a=a[::-1]\n",
    "print(a)#reverse string\n",
    "#-1 is step going from back"
   ]
  },
  {
   "cell_type": "code",
   "execution_count": 69,
   "id": "e1982d9a-46aa-4343-8871-203cb868cbe4",
   "metadata": {},
   "outputs": [
    {
     "name": "stdout",
     "output_type": "stream",
     "text": [
      "olH\n"
     ]
    }
   ],
   "source": [
    "print(a[::2])#gives olH takes step of 2 everytime"
   ]
  },
  {
   "cell_type": "code",
   "execution_count": 70,
   "id": "cbb0f6f0-8ff9-4345-ae36-641ba248f55b",
   "metadata": {},
   "outputs": [],
   "source": [
    "#reverse when 1st greater than second then step can be -1,-2 etc"
   ]
  },
  {
   "cell_type": "code",
   "execution_count": 71,
   "id": "8efb26cb-7a02-4e07-b7db-f9cda6eaa8ae",
   "metadata": {},
   "outputs": [
    {
     "name": "stdout",
     "output_type": "stream",
     "text": [
      "tig si lahs\n"
     ]
    }
   ],
   "source": [
    "a=\"vishal is github contributor\"\n",
    "print(a[12:1:-1])#this gives 12 to front with reverse"
   ]
  },
  {
   "cell_type": "code",
   "execution_count": 72,
   "id": "fd98aa04-c8f1-4aff-aad0-0343196f4b1a",
   "metadata": {},
   "outputs": [
    {
     "name": "stdout",
     "output_type": "stream",
     "text": [
      "\n"
     ]
    }
   ],
   "source": [
    "print(a[11:4])#now no step of -1 then it is empty"
   ]
  },
  {
   "cell_type": "code",
   "execution_count": 73,
   "id": "dce7a535-5b5f-420c-a178-5f81946ca21c",
   "metadata": {},
   "outputs": [
    {
     "name": "stdout",
     "output_type": "stream",
     "text": [
      "helloworld\n"
     ]
    }
   ],
   "source": [
    "print(\"hello\"+\"world\")#this is concatenation"
   ]
  },
  {
   "cell_type": "code",
   "execution_count": 74,
   "id": "4e0dc701-3c12-4f13-b135-48fddc7c12fc",
   "metadata": {},
   "outputs": [
    {
     "name": "stdout",
     "output_type": "stream",
     "text": [
      "hellohellohellohellohello\n"
     ]
    }
   ],
   "source": [
    "print(\"hello\"*5)#this prints the hello 5 times"
   ]
  },
  {
   "cell_type": "code",
   "execution_count": 75,
   "id": "cac7a28f-b4cc-41f1-8e96-31863ef2f650",
   "metadata": {},
   "outputs": [
    {
     "name": "stdout",
     "output_type": "stream",
     "text": [
      "5\n"
     ]
    }
   ],
   "source": [
    "print(len(\"hello\"))#this is length of string"
   ]
  },
  {
   "cell_type": "code",
   "execution_count": 76,
   "id": "65380ead-e1a9-4aab-bb28-093a4b628c64",
   "metadata": {},
   "outputs": [
    {
     "name": "stdout",
     "output_type": "stream",
     "text": [
      "1\n"
     ]
    }
   ],
   "source": [
    "print(\"hello\".find('e'))#this gives first e in hello"
   ]
  },
  {
   "cell_type": "code",
   "execution_count": 77,
   "id": "6cae4d42-edba-491f-a4d7-9b27ddd1d4bb",
   "metadata": {},
   "outputs": [
    {
     "name": "stdout",
     "output_type": "stream",
     "text": [
      "2\n"
     ]
    }
   ],
   "source": [
    "print(\"hello\".find('l'))#this gives first l index"
   ]
  },
  {
   "cell_type": "code",
   "execution_count": 78,
   "id": "567060f7-c5a8-4b0d-8405-85f889f941c4",
   "metadata": {},
   "outputs": [
    {
     "name": "stdout",
     "output_type": "stream",
     "text": [
      "3\n"
     ]
    }
   ],
   "source": [
    "print(\"hello\".find('l',3,5))#this range in 3"
   ]
  },
  {
   "cell_type": "code",
   "execution_count": 79,
   "id": "cc4a83ed-16ad-43aa-9417-d4d3956c1f26",
   "metadata": {},
   "outputs": [
    {
     "name": "stdout",
     "output_type": "stream",
     "text": [
      "2\n"
     ]
    }
   ],
   "source": [
    "print(\"hello\".count('l'))#this gives count of l 2 times"
   ]
  },
  {
   "cell_type": "code",
   "execution_count": 80,
   "id": "c1356492-f21b-4be5-9a43-b1505f9ad471",
   "metadata": {},
   "outputs": [
    {
     "name": "stdout",
     "output_type": "stream",
     "text": [
      "['vishal', 'is', 'friend']\n"
     ]
    }
   ],
   "source": [
    "#string split functions\n",
    "x=\"vishal is friend\"\n",
    "x=x.split()\n",
    "print(x)#at space it makes one item"
   ]
  },
  {
   "cell_type": "code",
   "execution_count": 81,
   "id": "4194d6b7-d8ce-4bd0-98f3-6729a7533158",
   "metadata": {},
   "outputs": [
    {
     "name": "stdout",
     "output_type": "stream",
     "text": [
      "['hello', 'for', 'all']\n"
     ]
    }
   ],
   "source": [
    "y=\"hello,for,all\"\n",
    "y=y.split(',')\n",
    "print(y)#this will give hello for all"
   ]
  },
  {
   "cell_type": "code",
   "execution_count": 83,
   "id": "8a7a3499-3a00-431c-ba2a-919fb63fa9c8",
   "metadata": {},
   "outputs": [
    {
     "name": "stdout",
     "output_type": "stream",
     "text": [
      "('hello', ',', 'for,all')\n"
     ]
    }
   ],
   "source": [
    "y='hello,for,all'.partition(',')\n",
    "print(y)#before partition of , next ,,next all after that ,"
   ]
  },
  {
   "cell_type": "code",
   "execution_count": 84,
   "id": "0e682cb4-fe75-4738-bbf0-fd0c9e0a5758",
   "metadata": {},
   "outputs": [
    {
     "name": "stdout",
     "output_type": "stream",
     "text": [
      "VISHAL\n"
     ]
    }
   ],
   "source": [
    "a=\"vishal\"\n",
    "a=a.upper()\n",
    "print(a)#this makes all capital"
   ]
  },
  {
   "cell_type": "code",
   "execution_count": 85,
   "id": "0f58c8d2-10a2-42e2-b941-d4d67edf59a9",
   "metadata": {},
   "outputs": [
    {
     "name": "stdout",
     "output_type": "stream",
     "text": [
      "VISHAL\n"
     ]
    }
   ],
   "source": [
    "a.lower()\n",
    "print(a)#now all lower"
   ]
  },
  {
   "cell_type": "code",
   "execution_count": 86,
   "id": "9314f55a-3645-4efe-bf56-6af73c90f7e9",
   "metadata": {},
   "outputs": [
    {
     "name": "stdout",
     "output_type": "stream",
     "text": [
      "ViShAll\n"
     ]
    }
   ],
   "source": [
    "a=\"vIsHaLL\"\n",
    "a=a.swapcase()\n",
    "print(a)#this makes a to A ,A to a"
   ]
  },
  {
   "cell_type": "code",
   "execution_count": 89,
   "id": "b485ceef-98b4-4196-8cef-3bbb7980150a",
   "metadata": {},
   "outputs": [
    {
     "name": "stdout",
     "output_type": "stream",
     "text": [
      "Vishal Hello\n",
      "Vishal hello\n"
     ]
    }
   ],
   "source": [
    "a=\"vishal hello\"\n",
    "print(a.title())#this all first capital\n",
    "print(a.capitalize())#only first word first letter capital"
   ]
  },
  {
   "cell_type": "code",
   "execution_count": 90,
   "id": "7146c996-70d2-461c-b734-716adfe12573",
   "metadata": {},
   "outputs": [],
   "source": [
    "#if element is not present in string then we get -1"
   ]
  },
  {
   "cell_type": "code",
   "execution_count": 91,
   "id": "9f9c725f-58eb-4892-ab35-063c2edd1044",
   "metadata": {},
   "outputs": [
    {
     "name": "stdin",
     "output_type": "stream",
     "text": [
      " 5\n"
     ]
    },
    {
     "name": "stdout",
     "output_type": "stream",
     "text": [
      "    *\n",
      "   ***\n",
      "  *****\n",
      " *******\n",
      "*********\n",
      "above gives pyramid:\n"
     ]
    }
   ],
   "source": [
    "n=int(input())\n",
    "for i in range(1,n+1):\n",
    "    for j in range(1,n-i+1):\n",
    "        print(\" \",end=\"\")\n",
    "    for j in range(1,i+1):\n",
    "        print(\"*\",end=\"\")\n",
    "    for j in range(1,i):\n",
    "        print(\"*\",end=\"\")\n",
    "    print()\n",
    "print(\"above gives pyramid:\")"
   ]
  },
  {
   "cell_type": "code",
   "execution_count": null,
   "id": "7d619269-f736-4c61-b14c-079eccd5a85b",
   "metadata": {},
   "outputs": [],
   "source": []
  }
 ],
 "metadata": {
  "kernelspec": {
   "display_name": "Python 3 (ipykernel)",
   "language": "python",
   "name": "python3"
  },
  "language_info": {
   "codemirror_mode": {
    "name": "ipython",
    "version": 3
   },
   "file_extension": ".py",
   "mimetype": "text/x-python",
   "name": "python",
   "nbconvert_exporter": "python",
   "pygments_lexer": "ipython3",
   "version": "3.10.8"
  }
 },
 "nbformat": 4,
 "nbformat_minor": 5
}
