{
 "cells": [
  {
   "cell_type": "code",
   "execution_count": 1,
   "id": "7028188d-2de4-4679-989d-5adb0d2c3f9f",
   "metadata": {},
   "outputs": [],
   "source": [
    "import requests\n",
    "from bs4 import BeautifulSoup\n",
    "from urllib.request import urlopen\n",
    "import logging\n",
    "import os"
   ]
  },
  {
   "cell_type": "code",
   "execution_count": 3,
   "id": "e94cc244-f019-4783-821a-0bea96126381",
   "metadata": {},
   "outputs": [],
   "source": [
    "save_dir='images/'\n",
    "if not os.path.exists(save_dir):\n",
    "    os.makedirs(save_dir)"
   ]
  },
  {
   "cell_type": "code",
   "execution_count": 4,
   "id": "27d5e7fc-b927-4664-b988-7808ad151afb",
   "metadata": {},
   "outputs": [],
   "source": [
    "#above is creating directory"
   ]
  },
  {
   "cell_type": "code",
   "execution_count": 5,
   "id": "0e1c716c-e7e0-4df0-8a11-3186bc776960",
   "metadata": {},
   "outputs": [],
   "source": [
    "query = \"elon musk\"\n",
    "response = requests.get(f\"https://www.google.com/search?q={query}&sxsrf=AJOqlzUuff1RXi2mm8I_OqOwT9VjfIDL7w:1676996143273&source=lnms&tbm=isch&sa=X&ved=2ahUKEwiq-qK7gaf9AhXUgVYBHYReAfYQ_AUoA3oECAEQBQ&biw=1920&bih=937&dpr=1#imgrc=1th7VhSesfMJ4M\")\n",
    "#this query goes into search and it is response"
   ]
  },
  {
   "cell_type": "code",
   "execution_count": 6,
   "id": "a823ccc0-91de-4ccd-95a7-456bb090f717",
   "metadata": {},
   "outputs": [],
   "source": [
    "soup=BeautifulSoup(response.content,\"html.parser\")#this makes is beautiful and readable"
   ]
  },
  {
   "cell_type": "code",
   "execution_count": 7,
   "id": "d524fd62-abbb-4c52-9d96-49d685a102cc",
   "metadata": {},
   "outputs": [
    {
     "data": {
      "text/plain": [
       "<!DOCTYPE html PUBLIC \"-//WAPFORUM//DTD XHTML Mobile 1.0//EN\" \"http://www.wapforum.org/DTD/xhtml-mobile10.dtd\">\n",
       "<html lang=\"en-IN\" xmlns=\"http://www.w3.org/1999/xhtml\"><head><meta content=\"application/xhtml+xml; charset=utf-8\" http-equiv=\"Content-Type\"/><meta content=\"no-cache\" name=\"Cache-Control\"/><title>elon musk - Google Search</title><style>a{text-decoration:none;color:inherit}a:hover{text-decoration:underline}a img{border:0}body{font-family:arial,sans-serif;padding:8px;margin:0 auto;max-width:700px;min-width:240px;}.FbhRzb{border-left:thin solid #dadce0;border-right:thin solid #dadce0;border-top:thin solid #dadce0;height:40px;overflow:hidden}.n692Zd{margin-bottom:10px}.cvifge{height:40px;border-spacing:0}.QvGUP{height:40px;padding:0 8px 0 8px;vertical-align:top}.O4cRJf{height:40px;width:100%;padding:0;padding-right:16px}.O1ePr{height:40px;padding:0;vertical-align:top}.kgJEQe{height:36px;width:98px;vertical-align:top;margin-top:4px}.lXLRf{vertical-align:top}.MhzMZd{border:0;vertical-align:middle;font-size:14px;height:40px;padding:0;width:100%;padding-left:16px}.xB0fq{height:40px;border:none;font-size:14px;background-color:#1a73e8;color:#fff;padding:0 16px;margin:0;vertical-align:top;cursor:pointer}.xB0fq:focus{border:1px solid #1a73e8}.M7pB2{border:thin solid #dadce0;margin:0 0 3px 0;font-size:13px;font-weight:500;height:40px}.euZec{width:100%;height:40px;text-align:center;border-spacing:0}table.euZec td{padding:0;width:25%}.QIqI7{display:inline-block;padding-top:4px;font-weight:bold;color:#4285f4}.EY24We{border-bottom:2px solid #4285f4}.CsQyDc{display:inline-block;color:#70757a}.TuS8Ad{font-size:14px}.HddGcc{padding:8px;color:#70757a}.dzp8ae{font-weight:bold;color:#3c4043}.rEM8G{color:#70757a}.bookcf{table-layout:fixed;width:100%;border-spacing:0}.InWNIe{text-align:center}.uZgmoc{border:thin solid #dadce0;color:#70757a;font-size:14px;text-align:center;table-layout:fixed;width:100%}.frGj1b{display:block;padding:12px 0 12px 0;width:100%}.BnJWBc{text-align:center;padding:6px 0 13px 0;height:35px}.e3goi{vertical-align:top;padding:0;height:180px}.GpQGbf{margin:auto;border-collapse:collapse;border-spacing:0;width:100%}</style></head><body><style>.X6ZCif{color:#202124;font-size:11px;line-height:16px;display:inline-block;padding-top:2px;overflow:hidden;padding-bottom:4px;width:100%}.TwVfHd{border-radius:16px;border:thin solid #dadce0;display:inline-block;padding:8px 8px;margin-right:8px;margin-bottom:4px}.yekiAe{background-color:#dadce0}.mnTahd{width:100%}.ezO2md{border:thin solid #dadce0;padding:12px 16px 12px 16px;margin-bottom:10px;font-family:arial,sans-serif}.lIMUZd{font-family:arial,sans-serif}.IkMU6e{border-spacing:0}.SjCsie{width:100%}.EnarA{text-align:center}.NZWO1b{width:162px;height:140px;line-height:140px;overflow:'hidden';text-align:center}.yWs4tf{text-align:center;margin:auto;vertical-align:middle;max-width:162px;max-height:140px}.jB2rPd{padding-top:2px;padding-bottom:8px;}.fYyStc{word-break:break-word}.ynsChf{display:block;white-space:nowrap;overflow:hidden;text-overflow:ellipsis}.Fj3V3b{color:#1967d2;font-size:14px;line-height:20px}.FrIlee{color:#202124;font-size:11px;line-height:16px}.F9iS2e{color:#70757a;font-size:11px;line-height:16px}.WMQ2Le{color:#70757a;font-size:12px;line-height:16px}.x3G5ab{color:#202124;font-size:12px;line-height:16px}.fuLhoc{color:#1967d2;font-size:16px;line-height:20px}.epoveb{font-size:24px;line-height:28px;font-weight:400;color:#202124}.dXDvrc{color:#0d652d;font-size:14px;line-height:20px;word-wrap:break-word}.dloBPe{font-weight:bold}.YVIcad{color:#70757a}.JkVVdd{color:#ea4335}.oXZRFd{color:#ea4335}.MQHtg{color:#fbbc04}.pyMRrb{color:#1e8e3e}.EtTZid{color:#1e8e3e}.M3vVJe{color:#1967d2}.qXLe6d{display:block}.NHQNef{font-style:italic}.Cb8Z7c{white-space:pre}a.ZWRArf{text-decoration:none}a .CVA68e:hover{text-decoration:underline}</style><div class=\"n692Zd\"><div class=\"BnJWBc\"><a class=\"lXLRf\" href=\"/?sa=X&amp;biw=1920&amp;bih=937&amp;output=images&amp;ie=UTF-8&amp;tbm=isch&amp;ved=0ahUKEwjXlNKyjvT-AhU4VWwGHSzNAkAQPAgC\"><img alt=\"Google\" class=\"kgJEQe\" src=\"/images/branding/searchlogo/1x/googlelogo_desk_heirloom_color_150x55dp.gif\"/></a></div><div class=\"FbhRzb\"><form action=\"/search\"><input name=\"biw\" type=\"hidden\" value=\"1920\"/><input name=\"bih\" type=\"hidden\" value=\"937\"/><input name=\"ie\" type=\"hidden\" value=\"ISO-8859-1\"/><input name=\"tbm\" type=\"hidden\" value=\"isch\"/><input name=\"oq\" type=\"hidden\"/><input name=\"aqs\" type=\"hidden\"/><table class=\"cvifge\"><tr><td class=\"O4cRJf\"><input class=\"MhzMZd\" name=\"q\" type=\"text\" value=\"elon musk\"/></td><td class=\"O1ePr\"><input class=\"xB0fq\" type=\"submit\" value=\"Search\"/></td></tr></table></form></div><div class=\"M7pB2\"><table class=\"euZec\"><tbody><tr><td><a class=\"CsQyDc\" href=\"/search?q=elon+musk&amp;biw=1920&amp;bih=937&amp;ie=UTF-8&amp;source=lnms&amp;sa=X&amp;ved=0ahUKEwjXlNKyjvT-AhU4VWwGHSzNAkAQ_AUIBCgA\">ALL</a></td><td><a class=\"CsQyDc\" href=\"/search?q=elon+musk&amp;biw=1920&amp;bih=937&amp;ie=UTF-8&amp;tbm=nws&amp;source=lnms&amp;sa=X&amp;ved=0ahUKEwjXlNKyjvT-AhU4VWwGHSzNAkAQ_AUIBSgB\">NEWS</a></td><td class=\"EY24We\"><span class=\"QIqI7\">IMAGES</span></td><td><a class=\"CsQyDc\" href=\"/search?q=elon+musk&amp;biw=1920&amp;bih=937&amp;ie=UTF-8&amp;tbm=vid&amp;source=lnms&amp;sa=X&amp;ved=0ahUKEwjXlNKyjvT-AhU4VWwGHSzNAkAQ_AUIBygD\">VIDEOS</a></td></tr></tbody></table></div></div><div class=\"X6ZCif\"><a class=\"TwVfHd\" href=\"/search?biw=1920&amp;bih=937&amp;ie=UTF-8&amp;tbm=isch&amp;q=elon+musk&amp;chips=q:elon+musk,g_1:tesla&amp;sa=X&amp;ved=0ahUKEwjXlNKyjvT-AhU4VWwGHSzNAkAQ4lYICygA\">tesla</a><a class=\"TwVfHd\" href=\"/search?biw=1920&amp;bih=937&amp;ie=UTF-8&amp;tbm=isch&amp;q=elon+musk&amp;chips=q:elon+musk,g_1:spacex&amp;sa=X&amp;ved=0ahUKEwjXlNKyjvT-AhU4VWwGHSzNAkAQ4lYIDCgB\">spacex</a><a class=\"TwVfHd\" href=\"/search?biw=1920&amp;bih=937&amp;ie=UTF-8&amp;tbm=isch&amp;q=elon+musk&amp;chips=q:elon+musk,g_1:rocket&amp;sa=X&amp;ved=0ahUKEwjXlNKyjvT-AhU4VWwGHSzNAkAQ4lYIDSgC\">rocket</a><a class=\"TwVfHd\" href=\"/search?biw=1920&amp;bih=937&amp;ie=UTF-8&amp;tbm=isch&amp;q=elon+musk&amp;chips=q:elon+musk,g_1:wallpaper&amp;sa=X&amp;ved=0ahUKEwjXlNKyjvT-AhU4VWwGHSzNAkAQ4lYIDigD\">wallpaper</a><a class=\"TwVfHd\" href=\"/search?biw=1920&amp;bih=937&amp;ie=UTF-8&amp;tbm=isch&amp;q=elon+musk&amp;chips=q:elon+musk,g_1:twitter&amp;sa=X&amp;ved=0ahUKEwjXlNKyjvT-AhU4VWwGHSzNAkAQ4lYIDygE\">twitter</a><a class=\"TwVfHd\" href=\"/search?biw=1920&amp;bih=937&amp;ie=UTF-8&amp;tbm=isch&amp;q=elon+musk&amp;chips=q:elon+musk,g_1:grimes&amp;sa=X&amp;ved=0ahUKEwjXlNKyjvT-AhU4VWwGHSzNAkAQ4lYIECgF\">grimes</a><a class=\"TwVfHd\" href=\"/search?biw=1920&amp;bih=937&amp;ie=UTF-8&amp;tbm=isch&amp;q=elon+musk&amp;chips=q:elon+musk,g_1:car&amp;sa=X&amp;ved=0ahUKEwjXlNKyjvT-AhU4VWwGHSzNAkAQ4lYIESgG\">car</a><a class=\"TwVfHd\" href=\"/search?biw=1920&amp;bih=937&amp;ie=UTF-8&amp;tbm=isch&amp;q=elon+musk&amp;chips=q:elon+musk,g_1:paypal&amp;sa=X&amp;ved=0ahUKEwjXlNKyjvT-AhU4VWwGHSzNAkAQ4lYIEigH\">paypal</a><a class=\"TwVfHd\" href=\"/search?biw=1920&amp;bih=937&amp;ie=UTF-8&amp;tbm=isch&amp;q=elon+musk&amp;chips=q:elon+musk,g_1:early&amp;sa=X&amp;ved=0ahUKEwjXlNKyjvT-AhU4VWwGHSzNAkAQ4lYIEygI\">early</a><a class=\"TwVfHd\" href=\"/search?biw=1920&amp;bih=937&amp;ie=UTF-8&amp;tbm=isch&amp;q=elon+musk&amp;chips=q:elon+musk,g_1:roadster&amp;sa=X&amp;ved=0ahUKEwjXlNKyjvT-AhU4VWwGHSzNAkAQ4lYIFCgJ\">roadster</a></div><div><table class=\"GpQGbf\"><tr><td align=\"center\" class=\"e3goi\"><div class=\"mnTahd\"> <div> <div class=\"lIMUZd\"><div><table class=\"IkMU6e\"><tr><td><a href=\"/url?q=https://en.wikipedia.org/wiki/Elon_Musk&amp;sa=U&amp;ved=2ahUKEwjXlNKyjvT-AhU4VWwGHSzNAkAQqoUBegQIBhAB&amp;usg=AOvVaw0ENambVxnUfETvkn3Zo2yD\"><div class=\"NZWO1b\"><img alt=\"\" class=\"yWs4tf\" src=\"https://encrypted-tbn0.gstatic.com/images?q=tbn:ANd9GcQEoGcTehPfBt44vuvC8wyJieRSiGKWqDO2UHbGG34cRttKR5nGr_NDLJHg_1s&amp;s\"/></div></a></td></tr><tr><td><a href=\"/url?q=https://en.wikipedia.org/wiki/Elon_Musk&amp;sa=U&amp;ved=2ahUKEwjXlNKyjvT-AhU4VWwGHSzNAkAQr4kDegQIBhAC&amp;usg=AOvVaw28RdiqP9hosQkDdH8E7OAH\"><div class=\"jB2rPd\"> <span class=\"qXLe6d x3G5ab\"> <span class=\"fYyStc\">Elon Musk - Wikipedia</span> </span> <span class=\"qXLe6d F9iS2e\"> <span class=\"fYyStc\">en.wikipedia.org</span> </span> </div></a></td></tr></table></div></div> </div> </div></td><td align=\"center\" class=\"e3goi\"><div class=\"mnTahd\"> <div> <div class=\"lIMUZd\"><div><table class=\"IkMU6e\"><tr><td><a href=\"/url?q=https://www.britannica.com/biography/Elon-Musk&amp;sa=U&amp;ved=2ahUKEwjXlNKyjvT-AhU4VWwGHSzNAkAQqoUBegQIEhAB&amp;usg=AOvVaw3sWUVUp0xWWd1txVldIDox\"><div class=\"NZWO1b\"><img alt=\"\" class=\"yWs4tf\" src=\"https://encrypted-tbn0.gstatic.com/images?q=tbn:ANd9GcQY_R5NSNoZkSlMo3hf86COGJ4fCv0s6Nx4k8uCGkWc6YGOn_m4-rIOQ3GhOhg&amp;s\"/></div></a></td></tr><tr><td><a href=\"/url?q=https://www.britannica.com/biography/Elon-Musk&amp;sa=U&amp;ved=2ahUKEwjXlNKyjvT-AhU4VWwGHSzNAkAQr4kDegQIEhAC&amp;usg=AOvVaw0kTs1XbQDRrc7JV-qRabxs\"><div class=\"jB2rPd\"> <span class=\"qXLe6d x3G5ab\"> <span class=\"fYyStc\">Elon Musk | Biography,...</span> </span> <span class=\"qXLe6d F9iS2e\"> <span class=\"fYyStc\">www.britannica.com</span> </span> </div></a></td></tr></table></div></div> </div> </div></td><td align=\"center\" class=\"e3goi\"><div class=\"mnTahd\"> <div> <div class=\"lIMUZd\"><div><table class=\"IkMU6e\"><tr><td><a href=\"/url?q=https://www.gadgets360.com/apps/news/elon-musk-new-hiring-twitter-ceo-announces-transition-cto-executive-chair-role-4027104&amp;sa=U&amp;ved=2ahUKEwjXlNKyjvT-AhU4VWwGHSzNAkAQqoUBegQIExAB&amp;usg=AOvVaw2tRkvms5GcEXFovCNznBKS\"><div class=\"NZWO1b\"><img alt=\"\" class=\"yWs4tf\" src=\"https://encrypted-tbn0.gstatic.com/images?q=tbn:ANd9GcRw_J9BJySt7qZQU_VDoChQCUmucErCccQXvZfhpmJRpUGcKo0MwzeEb5Gn-QY&amp;s\"/></div></a></td></tr><tr><td><a href=\"/url?q=https://www.gadgets360.com/apps/news/elon-musk-new-hiring-twitter-ceo-announces-transition-cto-executive-chair-role-4027104&amp;sa=U&amp;ved=2ahUKEwjXlNKyjvT-AhU4VWwGHSzNAkAQr4kDegQIExAC&amp;usg=AOvVaw2iSyCt1QdPkMv_EIqK0ZMU\"><div class=\"jB2rPd\"> <span class=\"qXLe6d x3G5ab\"> <span class=\"fYyStc\">Elon Musk Hires New Twitter...</span> </span> <span class=\"qXLe6d F9iS2e\"> <span class=\"fYyStc\">www.gadgets360.com</span> </span> </div></a></td></tr></table></div></div> </div> </div></td><td align=\"center\" class=\"e3goi\"><div class=\"mnTahd\"> <div> <div class=\"lIMUZd\"><div><table class=\"IkMU6e\"><tr><td><a href=\"/url?q=https://www.businessinsider.com/elon-musk-says-hired-new-twitter-ceo-transition-cto-2023-5&amp;sa=U&amp;ved=2ahUKEwjXlNKyjvT-AhU4VWwGHSzNAkAQqoUBegQIERAB&amp;usg=AOvVaw1S9Wtg0kOD2lLD8jBvUPhg\"><div class=\"NZWO1b\"><img alt=\"\" class=\"yWs4tf\" src=\"https://encrypted-tbn0.gstatic.com/images?q=tbn:ANd9GcSCdke0KdK5PR4DKz1V-fkdN9ObZF3nLyRjFX4Ck5si4aQOVLzU5tVdARoheGI&amp;s\"/></div></a></td></tr><tr><td><a href=\"/url?q=https://www.businessinsider.com/elon-musk-says-hired-new-twitter-ceo-transition-cto-2023-5&amp;sa=U&amp;ved=2ahUKEwjXlNKyjvT-AhU4VWwGHSzNAkAQr4kDegQIERAC&amp;usg=AOvVaw14lmmzwEgigk5q9NvCw55m\"><div class=\"jB2rPd\"> <span class=\"qXLe6d x3G5ab\"> <span class=\"fYyStc\">Elon Musk Says He's Hired...</span> </span> <span class=\"qXLe6d F9iS2e\"> <span class=\"fYyStc\">www.businessinsider.com</span> </span> </div></a></td></tr></table></div></div> </div> </div></td></tr><tr><td align=\"center\" class=\"e3goi\"><div class=\"mnTahd\"> <div> <div class=\"lIMUZd\"><div><table class=\"IkMU6e\"><tr><td><a href=\"/url?q=https://variety.com/2023/digital/news/elon-musk-hires-twitter-ceo-woman-1235610232/&amp;sa=U&amp;ved=2ahUKEwjXlNKyjvT-AhU4VWwGHSzNAkAQqoUBegQIEBAB&amp;usg=AOvVaw0cUYW6O57ZK0leedVtCUXy\"><div class=\"NZWO1b\"><img alt=\"\" class=\"yWs4tf\" src=\"https://encrypted-tbn0.gstatic.com/images?q=tbn:ANd9GcS_8J1dMO1l11keS2HIEulqa96plcEAg_kdIJxmnggPIWEWF2itqLLu7wjWET0&amp;s\"/></div></a></td></tr><tr><td><a href=\"/url?q=https://variety.com/2023/digital/news/elon-musk-hires-twitter-ceo-woman-1235610232/&amp;sa=U&amp;ved=2ahUKEwjXlNKyjvT-AhU4VWwGHSzNAkAQr4kDegQIEBAC&amp;usg=AOvVaw3bC9ZrRHP0WC0MaytPoGNn\"><div class=\"jB2rPd\"> <span class=\"qXLe6d x3G5ab\"> <span class=\"fYyStc\">Elon Musk Says He's Hired a...</span> </span> <span class=\"qXLe6d F9iS2e\"> <span class=\"fYyStc\">variety.com</span> </span> </div></a></td></tr></table></div></div> </div> </div></td><td align=\"center\" class=\"e3goi\"><div class=\"mnTahd\"> <div> <div class=\"lIMUZd\"><div><table class=\"IkMU6e\"><tr><td><a href=\"/url?q=https://www.moneycontrol.com/news/world/elon-musk-says-he-has-found-new-twitter-ceo-10570961.html&amp;sa=U&amp;ved=2ahUKEwjXlNKyjvT-AhU4VWwGHSzNAkAQqoUBegQIDBAB&amp;usg=AOvVaw2g5GjTeHk_mhlQXmotkx_w\"><div class=\"NZWO1b\"><img alt=\"\" class=\"yWs4tf\" src=\"https://encrypted-tbn0.gstatic.com/images?q=tbn:ANd9GcQu8grBklXOAWPXUuG7w4HaHhU7BmTQXltNUbXZf7J6EO2vc8FBkIEFO35gow&amp;s\"/></div></a></td></tr><tr><td><a href=\"/url?q=https://www.moneycontrol.com/news/world/elon-musk-says-he-has-found-new-twitter-ceo-10570961.html&amp;sa=U&amp;ved=2ahUKEwjXlNKyjvT-AhU4VWwGHSzNAkAQr4kDegQIDBAC&amp;usg=AOvVaw2NeKWzz5b2q3RqYQPfQuHx\"><div class=\"jB2rPd\"> <span class=\"qXLe6d x3G5ab\"> <span class=\"fYyStc\">Elon Musk says he has found...</span> </span> <span class=\"qXLe6d F9iS2e\"> <span class=\"fYyStc\">www.moneycontrol.com</span> </span> </div></a></td></tr></table></div></div> </div> </div></td><td align=\"center\" class=\"e3goi\"><div class=\"mnTahd\"> <div> <div class=\"lIMUZd\"><div><table class=\"IkMU6e\"><tr><td><a href=\"/url?q=https://www.nytimes.com/2023/05/11/technology/elon-musk-ceo-twitter.html&amp;sa=U&amp;ved=2ahUKEwjXlNKyjvT-AhU4VWwGHSzNAkAQqoUBegQIDhAB&amp;usg=AOvVaw2MSnHT-vYJbECWms6B_f_S\"><div class=\"NZWO1b\"><img alt=\"\" class=\"yWs4tf\" src=\"https://encrypted-tbn0.gstatic.com/images?q=tbn:ANd9GcRzv_3CO0VUu4Aj0MYRtNnTvbZ-fyDk1NxC06ZC5chJhbfnanqTjLFQ3y4ZP24&amp;s\"/></div></a></td></tr><tr><td><a href=\"/url?q=https://www.nytimes.com/2023/05/11/technology/elon-musk-ceo-twitter.html&amp;sa=U&amp;ved=2ahUKEwjXlNKyjvT-AhU4VWwGHSzNAkAQr4kDegQIDhAC&amp;usg=AOvVaw1_oFLV18pYCaxPQJsBV9LM\"><div class=\"jB2rPd\"> <span class=\"qXLe6d x3G5ab\"> <span class=\"fYyStc\">New Twitter CEO May Be...</span> </span> <span class=\"qXLe6d F9iS2e\"> <span class=\"fYyStc\">www.nytimes.com</span> </span> </div></a></td></tr></table></div></div> </div> </div></td><td align=\"center\" class=\"e3goi\"><div class=\"mnTahd\"> <div> <div class=\"lIMUZd\"><div><table class=\"IkMU6e\"><tr><td><a href=\"/url?q=https://www.britannica.com/biography/Elon-Musk&amp;sa=U&amp;ved=2ahUKEwjXlNKyjvT-AhU4VWwGHSzNAkAQqoUBegQIDxAB&amp;usg=AOvVaw1b8s-nSQRS132QEh2rNhSG\"><div class=\"NZWO1b\"><img alt=\"\" class=\"yWs4tf\" src=\"https://encrypted-tbn0.gstatic.com/images?q=tbn:ANd9GcS6mPr1g683xgMlTnJfswzPyIjixDUJCLKR_GUOYd43dGj0LB8Uum64r_cOjl4&amp;s\"/></div></a></td></tr><tr><td><a href=\"/url?q=https://www.britannica.com/biography/Elon-Musk&amp;sa=U&amp;ved=2ahUKEwjXlNKyjvT-AhU4VWwGHSzNAkAQr4kDegQIDxAC&amp;usg=AOvVaw28JXUSe63o0liQ-rYDlxUF\"><div class=\"jB2rPd\"> <span class=\"qXLe6d x3G5ab\"> <span class=\"fYyStc\">Elon Musk | Biography,...</span> </span> <span class=\"qXLe6d F9iS2e\"> <span class=\"fYyStc\">www.britannica.com</span> </span> </div></a></td></tr></table></div></div> </div> </div></td></tr><tr><td align=\"center\" class=\"e3goi\"><div class=\"mnTahd\"> <div> <div class=\"lIMUZd\"><div><table class=\"IkMU6e\"><tr><td><a href=\"/url?q=https://www.npr.org/2022/07/08/1110539504/twitter-elon-musk-deal-jeopardy&amp;sa=U&amp;ved=2ahUKEwjXlNKyjvT-AhU4VWwGHSzNAkAQqoUBegQICxAB&amp;usg=AOvVaw0uVIKR2fYOW2ZCVZba6Rh4\"><div class=\"NZWO1b\"><img alt=\"\" class=\"yWs4tf\" src=\"https://encrypted-tbn0.gstatic.com/images?q=tbn:ANd9GcR4bK4_ZOge6uEs211ByoLTSzcJmCZHyUKezWUEpXNK0xooL3hJoQUctvCa0t0&amp;s\"/></div></a></td></tr><tr><td><a href=\"/url?q=https://www.npr.org/2022/07/08/1110539504/twitter-elon-musk-deal-jeopardy&amp;sa=U&amp;ved=2ahUKEwjXlNKyjvT-AhU4VWwGHSzNAkAQr4kDegQICxAC&amp;usg=AOvVaw1u2WKYZmLoAJ1gUSqwfTLk\"><div class=\"jB2rPd\"> <span class=\"qXLe6d x3G5ab\"> <span class=\"fYyStc\">Elon Musk's relationship...</span> </span> <span class=\"qXLe6d F9iS2e\"> <span class=\"fYyStc\">www.npr.org</span> </span> </div></a></td></tr></table></div></div> </div> </div></td><td align=\"center\" class=\"e3goi\"><div class=\"mnTahd\"> <div> <div class=\"lIMUZd\"><div><table class=\"IkMU6e\"><tr><td><a href=\"/url?q=https://www.theguardian.com/tv-and-radio/2022/oct/12/the-elon-musk-show-review-is-the-worlds-richest-man-a-genius-or-just-a-goofy-loner&amp;sa=U&amp;ved=2ahUKEwjXlNKyjvT-AhU4VWwGHSzNAkAQqoUBegQICRAB&amp;usg=AOvVaw3h_Qh-zvzbHsJSpq1jIl6g\"><div class=\"NZWO1b\"><img alt=\"\" class=\"yWs4tf\" src=\"https://encrypted-tbn0.gstatic.com/images?q=tbn:ANd9GcRQZseQ9bRxUwHLR5yk-VmJYFt7AuZKTqzI7n1im9SOTEk9qWAeEoQcfZ8l5g&amp;s\"/></div></a></td></tr><tr><td><a href=\"/url?q=https://www.theguardian.com/tv-and-radio/2022/oct/12/the-elon-musk-show-review-is-the-worlds-richest-man-a-genius-or-just-a-goofy-loner&amp;sa=U&amp;ved=2ahUKEwjXlNKyjvT-AhU4VWwGHSzNAkAQr4kDegQICRAC&amp;usg=AOvVaw3AWU6APAWBl5YehWZM-qbR\"><div class=\"jB2rPd\"> <span class=\"qXLe6d x3G5ab\"> <span class=\"fYyStc\">The Elon Musk Show review –...</span> </span> <span class=\"qXLe6d F9iS2e\"> <span class=\"fYyStc\">www.theguardian.com</span> </span> </div></a></td></tr></table></div></div> </div> </div></td><td align=\"center\" class=\"e3goi\"><div class=\"mnTahd\"> <div> <div class=\"lIMUZd\"><div><table class=\"IkMU6e\"><tr><td><a href=\"/url?q=https://www.space.com/18849-elon-musk.html&amp;sa=U&amp;ved=2ahUKEwjXlNKyjvT-AhU4VWwGHSzNAkAQqoUBegQIDRAB&amp;usg=AOvVaw3IXM9a21LxQl0ZkqsAPE7A\"><div class=\"NZWO1b\"><img alt=\"\" class=\"yWs4tf\" src=\"https://encrypted-tbn0.gstatic.com/images?q=tbn:ANd9GcT1Q-0CmrVfXGte1S5KxWDiRtt6djhyUzRP_tIhSGVZqmYd_tGTQH9EmMdXTQ&amp;s\"/></div></a></td></tr><tr><td><a href=\"/url?q=https://www.space.com/18849-elon-musk.html&amp;sa=U&amp;ved=2ahUKEwjXlNKyjvT-AhU4VWwGHSzNAkAQr4kDegQIDRAC&amp;usg=AOvVaw0GbTD0Xm_EmzprdKhevCm_\"><div class=\"jB2rPd\"> <span class=\"qXLe6d x3G5ab\"> <span class=\"fYyStc\">Elon Musk: Revolutionary...</span> </span> <span class=\"qXLe6d F9iS2e\"> <span class=\"fYyStc\">www.space.com</span> </span> </div></a></td></tr></table></div></div> </div> </div></td><td align=\"center\" class=\"e3goi\"><div class=\"mnTahd\"> <div> <div class=\"lIMUZd\"><div><table class=\"IkMU6e\"><tr><td><a href=\"/url?q=https://www.cnbc.com/2023/04/21/elon-musk-had-a-rough-week-across-tesla-twitter-and-spacex.html&amp;sa=U&amp;ved=2ahUKEwjXlNKyjvT-AhU4VWwGHSzNAkAQqoUBegQIChAB&amp;usg=AOvVaw3djSmRxLSilEF0iu_HpIWk\"><div class=\"NZWO1b\"><img alt=\"\" class=\"yWs4tf\" src=\"https://encrypted-tbn0.gstatic.com/images?q=tbn:ANd9GcR-JOYOe3e7_kjLpOVTZu2XmVJyLdcceg6ZmAUKXbu2Af0vF_ynw7JfeHKHcqM&amp;s\"/></div></a></td></tr><tr><td><a href=\"/url?q=https://www.cnbc.com/2023/04/21/elon-musk-had-a-rough-week-across-tesla-twitter-and-spacex.html&amp;sa=U&amp;ved=2ahUKEwjXlNKyjvT-AhU4VWwGHSzNAkAQr4kDegQIChAC&amp;usg=AOvVaw2LodFry6HSR6rTLKR1NG7D\"><div class=\"jB2rPd\"> <span class=\"qXLe6d x3G5ab\"> <span class=\"fYyStc\">Elon Musk had a rough week...</span> </span> <span class=\"qXLe6d F9iS2e\"> <span class=\"fYyStc\">www.cnbc.com</span> </span> </div></a></td></tr></table></div></div> </div> </div></td></tr><tr><td align=\"center\" class=\"e3goi\"><div class=\"mnTahd\"> <div> <div class=\"lIMUZd\"><div><table class=\"IkMU6e\"><tr><td><a href=\"/url?q=https://m.economictimes.com/magazines/panache/how-elon-musk-is-earning-close-to-rs-8-2-cr-a-year-from-his-personal-twitter-account/articleshow/99778693.cms&amp;sa=U&amp;ved=2ahUKEwjXlNKyjvT-AhU4VWwGHSzNAkAQqoUBegQIAhAB&amp;usg=AOvVaw1_8yinCm7PFh3Ct7LgvNXV\"><div class=\"NZWO1b\"><img alt=\"\" class=\"yWs4tf\" src=\"https://encrypted-tbn0.gstatic.com/images?q=tbn:ANd9GcQEY_QDHlrjMkWdokfVMbsTlwWwAwq8zS_t4RtPn_tFdzeiO6WoetuczahWPQ&amp;s\"/></div></a></td></tr><tr><td><a href=\"/url?q=https://m.economictimes.com/magazines/panache/how-elon-musk-is-earning-close-to-rs-8-2-cr-a-year-from-his-personal-twitter-account/articleshow/99778693.cms&amp;sa=U&amp;ved=2ahUKEwjXlNKyjvT-AhU4VWwGHSzNAkAQr4kDegQIAhAC&amp;usg=AOvVaw1Xt3KqLA2JyYRTaZ9mCe9u\"><div class=\"jB2rPd\"> <span class=\"qXLe6d x3G5ab\"> <span class=\"fYyStc\">Elon Musk Earning: How Elon...</span> </span> <span class=\"qXLe6d F9iS2e\"> <span class=\"fYyStc\">m.economictimes.com</span> </span> </div></a></td></tr></table></div></div> </div> </div></td><td align=\"center\" class=\"e3goi\"><div class=\"mnTahd\"> <div> <div class=\"lIMUZd\"><div><table class=\"IkMU6e\"><tr><td><a href=\"/url?q=https://www.businesstoday.in/technology/news/story/how-about-8-elon-musk-wants-to-set-the-price-of-twitter-blue-tick-351394-2022-11-01&amp;sa=U&amp;ved=2ahUKEwjXlNKyjvT-AhU4VWwGHSzNAkAQqoUBegQICBAB&amp;usg=AOvVaw3htyCaLYmXI-ynd6-gar_2\"><div class=\"NZWO1b\"><img alt=\"\" class=\"yWs4tf\" src=\"https://encrypted-tbn0.gstatic.com/images?q=tbn:ANd9GcQlT15a482o5mx6FB1FgpuGpujHJLH845sLO0Y9csK-FEzs1RW6zb7iYHTiTNc&amp;s\"/></div></a></td></tr><tr><td><a href=\"/url?q=https://www.businesstoday.in/technology/news/story/how-about-8-elon-musk-wants-to-set-the-price-of-twitter-blue-tick-351394-2022-11-01&amp;sa=U&amp;ved=2ahUKEwjXlNKyjvT-AhU4VWwGHSzNAkAQr4kDegQICBAC&amp;usg=AOvVaw2Wcd9oMgLIHDAWuH6yKAdB\"><div class=\"jB2rPd\"> <span class=\"qXLe6d x3G5ab\"> <span class=\"fYyStc\">How about $8?' Elon Musk...</span> </span> <span class=\"qXLe6d F9iS2e\"> <span class=\"fYyStc\">www.businesstoday.in</span> </span> </div></a></td></tr></table></div></div> </div> </div></td><td align=\"center\" class=\"e3goi\"><div class=\"mnTahd\"> <div> <div class=\"lIMUZd\"><div><table class=\"IkMU6e\"><tr><td><a href=\"/url?q=https://www.biography.com/business-leaders/elon-musk&amp;sa=U&amp;ved=2ahUKEwjXlNKyjvT-AhU4VWwGHSzNAkAQqoUBegQIABAB&amp;usg=AOvVaw2QG1lLucjl3dSvR9-XkHZi\"><div class=\"NZWO1b\"><img alt=\"\" class=\"yWs4tf\" src=\"https://encrypted-tbn0.gstatic.com/images?q=tbn:ANd9GcTvewo3-e7y-JsV16EL3q3EaMThVwCiuN7DD1_KTctFNodySZtMVcuOKk5uUQ&amp;s\"/></div></a></td></tr><tr><td><a href=\"/url?q=https://www.biography.com/business-leaders/elon-musk&amp;sa=U&amp;ved=2ahUKEwjXlNKyjvT-AhU4VWwGHSzNAkAQr4kDegQIABAC&amp;usg=AOvVaw1n46WVQO7CKH-4f3_N3z-Q\"><div class=\"jB2rPd\"> <span class=\"qXLe6d x3G5ab\"> <span class=\"fYyStc\">Elon Musk - Tesla, Age &amp;...</span> </span> <span class=\"qXLe6d F9iS2e\"> <span class=\"fYyStc\">www.biography.com</span> </span> </div></a></td></tr></table></div></div> </div> </div></td><td align=\"center\" class=\"e3goi\"><div class=\"mnTahd\"> <div> <div class=\"lIMUZd\"><div><table class=\"IkMU6e\"><tr><td><a href=\"/url?q=https://www.aljazeera.com/economy/2022/11/1/elon-musk-fires-twitter-board-making-himself-sole-director&amp;sa=U&amp;ved=2ahUKEwjXlNKyjvT-AhU4VWwGHSzNAkAQqoUBegQIBBAB&amp;usg=AOvVaw1vXBTdNYt7GQ5NHf2fyBXF\"><div class=\"NZWO1b\"><img alt=\"\" class=\"yWs4tf\" src=\"https://encrypted-tbn0.gstatic.com/images?q=tbn:ANd9GcS5N0QN7HibJmxwesNGm-dT7fRpzhKg-LvrLifoxUzEDmw_K09M0JwCnC2kVuU&amp;s\"/></div></a></td></tr><tr><td><a href=\"/url?q=https://www.aljazeera.com/economy/2022/11/1/elon-musk-fires-twitter-board-making-himself-sole-director&amp;sa=U&amp;ved=2ahUKEwjXlNKyjvT-AhU4VWwGHSzNAkAQr4kDegQIBBAC&amp;usg=AOvVaw0Gs6WGw6e_w4f28sE0DB5r\"><div class=\"jB2rPd\"> <span class=\"qXLe6d x3G5ab\"> <span class=\"fYyStc\">Elon Musk fires Twitter...</span> </span> <span class=\"qXLe6d F9iS2e\"> <span class=\"fYyStc\">www.aljazeera.com</span> </span> </div></a></td></tr></table></div></div> </div> </div></td></tr><tr><td align=\"center\" class=\"e3goi\"><div class=\"mnTahd\"> <div> <div class=\"lIMUZd\"><div><table class=\"IkMU6e\"><tr><td><a href=\"/url?q=https://www.latimes.com/business/story/2023-05-11/elon-musk-says-hes-stepping-down-as-twitters-ceo&amp;sa=U&amp;ved=2ahUKEwjXlNKyjvT-AhU4VWwGHSzNAkAQqoUBegQIARAB&amp;usg=AOvVaw2qESq8RhdIKOIllfRIKi8b\"><div class=\"NZWO1b\"><img alt=\"\" class=\"yWs4tf\" src=\"https://encrypted-tbn0.gstatic.com/images?q=tbn:ANd9GcR0z3RJhYCqI0ca4F5hJHrM666tMf7HkluPYoOx-4E5Qb9ixcMcGumfnwLn6Q&amp;s\"/></div></a></td></tr><tr><td><a href=\"/url?q=https://www.latimes.com/business/story/2023-05-11/elon-musk-says-hes-stepping-down-as-twitters-ceo&amp;sa=U&amp;ved=2ahUKEwjXlNKyjvT-AhU4VWwGHSzNAkAQr4kDegQIARAC&amp;usg=AOvVaw2NjPmrAcKyFJfyXrcmWrhi\"><div class=\"jB2rPd\"> <span class=\"qXLe6d x3G5ab\"> <span class=\"fYyStc\">Musk to step down as...</span> </span> <span class=\"qXLe6d F9iS2e\"> <span class=\"fYyStc\">www.latimes.com</span> </span> </div></a></td></tr></table></div></div> </div> </div></td><td align=\"center\" class=\"e3goi\"><div class=\"mnTahd\"> <div> <div class=\"lIMUZd\"><div><table class=\"IkMU6e\"><tr><td><a href=\"/url?q=https://www.forbes.com/sites/paultassi/2023/05/06/elon-musk-threatens-to-implement-gifted-twitter-blue-subscriptions/&amp;sa=U&amp;ved=2ahUKEwjXlNKyjvT-AhU4VWwGHSzNAkAQqoUBegQIAxAB&amp;usg=AOvVaw2SJ6HshAW6PK68eRoLqvTn\"><div class=\"NZWO1b\"><img alt=\"\" class=\"yWs4tf\" src=\"https://encrypted-tbn0.gstatic.com/images?q=tbn:ANd9GcQFwI8f_Oe3XyN1V_eJXqUA3H0OrBRqdnCjX39qpCf0Ydgbv9awdZRvru85fWc&amp;s\"/></div></a></td></tr><tr><td><a href=\"/url?q=https://www.forbes.com/sites/paultassi/2023/05/06/elon-musk-threatens-to-implement-gifted-twitter-blue-subscriptions/&amp;sa=U&amp;ved=2ahUKEwjXlNKyjvT-AhU4VWwGHSzNAkAQr4kDegQIAxAC&amp;usg=AOvVaw3mOUoIStE-ZEmd9jfOXMHc\"><div class=\"jB2rPd\"> <span class=\"qXLe6d x3G5ab\"> <span class=\"fYyStc\">Elon Musk Threatens To...</span> </span> <span class=\"qXLe6d F9iS2e\"> <span class=\"fYyStc\">www.forbes.com</span> </span> </div></a></td></tr></table></div></div> </div> </div></td><td align=\"center\" class=\"e3goi\"><div class=\"mnTahd\"> <div> <div class=\"lIMUZd\"><div><table class=\"IkMU6e\"><tr><td><a href=\"/url?q=https://www.economist.com/leaders/2022/10/06/how-worried-should-you-be-about-elon-musks-superpowers&amp;sa=U&amp;ved=2ahUKEwjXlNKyjvT-AhU4VWwGHSzNAkAQqoUBegQIBxAB&amp;usg=AOvVaw2C_CQBy5E7E6Zo7BRUGxKD\"><div class=\"NZWO1b\"><img alt=\"\" class=\"yWs4tf\" src=\"https://encrypted-tbn0.gstatic.com/images?q=tbn:ANd9GcTTZazXWMGlagvnpYdz9el0noSpXWrySfSUkHmEOV4Ru2g9aL77ieNsgedB9A&amp;s\"/></div></a></td></tr><tr><td><a href=\"/url?q=https://www.economist.com/leaders/2022/10/06/how-worried-should-you-be-about-elon-musks-superpowers&amp;sa=U&amp;ved=2ahUKEwjXlNKyjvT-AhU4VWwGHSzNAkAQr4kDegQIBxAC&amp;usg=AOvVaw2reTqrK0z4m1zlWX9z9Qf8\"><div class=\"jB2rPd\"> <span class=\"qXLe6d x3G5ab\"> <span class=\"fYyStc\">How worried should you be...</span> </span> <span class=\"qXLe6d F9iS2e\"> <span class=\"fYyStc\">www.economist.com</span> </span> </div></a></td></tr></table></div></div> </div> </div></td><td align=\"center\" class=\"e3goi\"><div class=\"mnTahd\"> <div> <div class=\"lIMUZd\"><div><table class=\"IkMU6e\"><tr><td><a href=\"/url?q=https://abcnews.go.com/Business/timeline-elon-musks-tumultuous-twitter-acquisition-attempt/story%3Fid%3D86611191&amp;sa=U&amp;ved=2ahUKEwjXlNKyjvT-AhU4VWwGHSzNAkAQqoUBegQIBRAB&amp;usg=AOvVaw0-_-CqzQvkKbi8XEDhA60S\"><div class=\"NZWO1b\"><img alt=\"\" class=\"yWs4tf\" src=\"https://encrypted-tbn0.gstatic.com/images?q=tbn:ANd9GcTQplCWUnUAOLxpe6pck_0oVEf8gwaO4MGK-o6vRWF04MI5gQ7W46uHPEZq9Q&amp;s\"/></div></a></td></tr><tr><td><a href=\"/url?q=https://abcnews.go.com/Business/timeline-elon-musks-tumultuous-twitter-acquisition-attempt/story%3Fid%3D86611191&amp;sa=U&amp;ved=2ahUKEwjXlNKyjvT-AhU4VWwGHSzNAkAQr4kDegQIBRAC&amp;usg=AOvVaw2Z6_BIlIFZVcZ33GoA0ogN\"><div class=\"jB2rPd\"> <span class=\"qXLe6d x3G5ab\"> <span class=\"fYyStc\">A timeline of Elon Musk's...</span> </span> <span class=\"qXLe6d F9iS2e\"> <span class=\"fYyStc\">abcnews.go.com</span> </span> </div></a></td></tr></table></div></div> </div> </div></td></tr></table></div><table class=\"uZgmoc\"><tbody><td><a class=\"frGj1b\" href=\"/search?q=elon+musk&amp;biw=1920&amp;bih=937&amp;ie=UTF-8&amp;tbm=isch&amp;ei=YXZgZJfgC7iqseMPrJqLgAQ&amp;start=20&amp;sa=N\">Next &gt;</a></td></tbody></table><br/><div class=\"TuS8Ad\" data-ved=\"0ahUKEwjXlNKyjvT-AhU4VWwGHSzNAkAQpyoIUg\"><style>.VYM29{font-weight:bold}</style><div align=\"center\" class=\"HddGcc\"><span class=\"VYM29\">Mumbai, Maharashtra</span><span> - </span><span>From your IP address</span><span> - </span><a href=\"/url?q=https://support.google.com/websearch%3Fp%3Dws_settings_location%26hl%3Den-IN&amp;sa=U&amp;ved=0ahUKEwjXlNKyjvT-AhU4VWwGHSzNAkAQty4IUw&amp;usg=AOvVaw1a170HT3SJjcX_QHOO7WNm\">Learn more</a></div><div align=\"center\"><a class=\"rEM8G\" href=\"/url?q=https://accounts.google.com/ServiceLogin%3Fcontinue%3Dhttps://www.google.com/search%253Fq%253Delon%252Bmusk%2526sxsrf%253DAJOqlzUuff1RXi2mm8I_OqOwT9VjfIDL7w:1676996143273%2526source%253Dlnms%2526tbm%253Disch%2526sa%253DX%2526ved%253D2ahUKEwiq-qK7gaf9AhXUgVYBHYReAfYQ_AUoA3oECAEQBQ%2526biw%253D1920%2526bih%253D937%2526dpr%253D1%26hl%3Den&amp;sa=U&amp;ved=0ahUKEwjXlNKyjvT-AhU4VWwGHSzNAkAQxs8CCFQ&amp;usg=AOvVaw0Dn3AFvqkHJQCoHysJA52s\">Sign in</a></div><div><table class=\"bookcf\"><tbody class=\"InWNIe\"><tr><td><a class=\"rEM8G\" href=\"https://www.google.com/preferences?hl=en&amp;sa=X&amp;ved=0ahUKEwjXlNKyjvT-AhU4VWwGHSzNAkAQv5YECFU\">Settings</a></td><td><a class=\"rEM8G\" href=\"https://www.google.com/intl/en_in/policies/privacy/\">Privacy</a></td><td><a class=\"rEM8G\" href=\"https://www.google.com/intl/en_in/policies/terms/\">Terms</a></td></tr></tbody></table></div></div><div> </div></body></html>"
      ]
     },
     "execution_count": 7,
     "metadata": {},
     "output_type": "execute_result"
    }
   ],
   "source": [
    "soup"
   ]
  },
  {
   "cell_type": "code",
   "execution_count": 8,
   "id": "c6bdbfa6-9ada-41ed-a25a-f9df4b8dad04",
   "metadata": {},
   "outputs": [],
   "source": [
    "image_tages = soup.find_all(\"img\")#only extracting the images"
   ]
  },
  {
   "cell_type": "code",
   "execution_count": 9,
   "id": "2e77c20d-0f4c-4d7b-82e5-55e261e616b5",
   "metadata": {},
   "outputs": [
    {
     "data": {
      "text/plain": [
       "21"
      ]
     },
     "execution_count": 9,
     "metadata": {},
     "output_type": "execute_result"
    }
   ],
   "source": [
    "len(image_tages)"
   ]
  },
  {
   "cell_type": "code",
   "execution_count": 11,
   "id": "8c45a20a-efe9-408b-b90e-286657027de9",
   "metadata": {},
   "outputs": [
    {
     "data": {
      "text/plain": [
       "[<img alt=\"Google\" class=\"kgJEQe\" src=\"/images/branding/searchlogo/1x/googlelogo_desk_heirloom_color_150x55dp.gif\"/>,\n",
       " <img alt=\"\" class=\"yWs4tf\" src=\"https://encrypted-tbn0.gstatic.com/images?q=tbn:ANd9GcQEoGcTehPfBt44vuvC8wyJieRSiGKWqDO2UHbGG34cRttKR5nGr_NDLJHg_1s&amp;s\"/>,\n",
       " <img alt=\"\" class=\"yWs4tf\" src=\"https://encrypted-tbn0.gstatic.com/images?q=tbn:ANd9GcQY_R5NSNoZkSlMo3hf86COGJ4fCv0s6Nx4k8uCGkWc6YGOn_m4-rIOQ3GhOhg&amp;s\"/>,\n",
       " <img alt=\"\" class=\"yWs4tf\" src=\"https://encrypted-tbn0.gstatic.com/images?q=tbn:ANd9GcRw_J9BJySt7qZQU_VDoChQCUmucErCccQXvZfhpmJRpUGcKo0MwzeEb5Gn-QY&amp;s\"/>,\n",
       " <img alt=\"\" class=\"yWs4tf\" src=\"https://encrypted-tbn0.gstatic.com/images?q=tbn:ANd9GcSCdke0KdK5PR4DKz1V-fkdN9ObZF3nLyRjFX4Ck5si4aQOVLzU5tVdARoheGI&amp;s\"/>,\n",
       " <img alt=\"\" class=\"yWs4tf\" src=\"https://encrypted-tbn0.gstatic.com/images?q=tbn:ANd9GcS_8J1dMO1l11keS2HIEulqa96plcEAg_kdIJxmnggPIWEWF2itqLLu7wjWET0&amp;s\"/>,\n",
       " <img alt=\"\" class=\"yWs4tf\" src=\"https://encrypted-tbn0.gstatic.com/images?q=tbn:ANd9GcQu8grBklXOAWPXUuG7w4HaHhU7BmTQXltNUbXZf7J6EO2vc8FBkIEFO35gow&amp;s\"/>,\n",
       " <img alt=\"\" class=\"yWs4tf\" src=\"https://encrypted-tbn0.gstatic.com/images?q=tbn:ANd9GcRzv_3CO0VUu4Aj0MYRtNnTvbZ-fyDk1NxC06ZC5chJhbfnanqTjLFQ3y4ZP24&amp;s\"/>,\n",
       " <img alt=\"\" class=\"yWs4tf\" src=\"https://encrypted-tbn0.gstatic.com/images?q=tbn:ANd9GcS6mPr1g683xgMlTnJfswzPyIjixDUJCLKR_GUOYd43dGj0LB8Uum64r_cOjl4&amp;s\"/>,\n",
       " <img alt=\"\" class=\"yWs4tf\" src=\"https://encrypted-tbn0.gstatic.com/images?q=tbn:ANd9GcR4bK4_ZOge6uEs211ByoLTSzcJmCZHyUKezWUEpXNK0xooL3hJoQUctvCa0t0&amp;s\"/>,\n",
       " <img alt=\"\" class=\"yWs4tf\" src=\"https://encrypted-tbn0.gstatic.com/images?q=tbn:ANd9GcRQZseQ9bRxUwHLR5yk-VmJYFt7AuZKTqzI7n1im9SOTEk9qWAeEoQcfZ8l5g&amp;s\"/>,\n",
       " <img alt=\"\" class=\"yWs4tf\" src=\"https://encrypted-tbn0.gstatic.com/images?q=tbn:ANd9GcT1Q-0CmrVfXGte1S5KxWDiRtt6djhyUzRP_tIhSGVZqmYd_tGTQH9EmMdXTQ&amp;s\"/>,\n",
       " <img alt=\"\" class=\"yWs4tf\" src=\"https://encrypted-tbn0.gstatic.com/images?q=tbn:ANd9GcR-JOYOe3e7_kjLpOVTZu2XmVJyLdcceg6ZmAUKXbu2Af0vF_ynw7JfeHKHcqM&amp;s\"/>,\n",
       " <img alt=\"\" class=\"yWs4tf\" src=\"https://encrypted-tbn0.gstatic.com/images?q=tbn:ANd9GcQEY_QDHlrjMkWdokfVMbsTlwWwAwq8zS_t4RtPn_tFdzeiO6WoetuczahWPQ&amp;s\"/>,\n",
       " <img alt=\"\" class=\"yWs4tf\" src=\"https://encrypted-tbn0.gstatic.com/images?q=tbn:ANd9GcQlT15a482o5mx6FB1FgpuGpujHJLH845sLO0Y9csK-FEzs1RW6zb7iYHTiTNc&amp;s\"/>,\n",
       " <img alt=\"\" class=\"yWs4tf\" src=\"https://encrypted-tbn0.gstatic.com/images?q=tbn:ANd9GcTvewo3-e7y-JsV16EL3q3EaMThVwCiuN7DD1_KTctFNodySZtMVcuOKk5uUQ&amp;s\"/>,\n",
       " <img alt=\"\" class=\"yWs4tf\" src=\"https://encrypted-tbn0.gstatic.com/images?q=tbn:ANd9GcS5N0QN7HibJmxwesNGm-dT7fRpzhKg-LvrLifoxUzEDmw_K09M0JwCnC2kVuU&amp;s\"/>,\n",
       " <img alt=\"\" class=\"yWs4tf\" src=\"https://encrypted-tbn0.gstatic.com/images?q=tbn:ANd9GcR0z3RJhYCqI0ca4F5hJHrM666tMf7HkluPYoOx-4E5Qb9ixcMcGumfnwLn6Q&amp;s\"/>,\n",
       " <img alt=\"\" class=\"yWs4tf\" src=\"https://encrypted-tbn0.gstatic.com/images?q=tbn:ANd9GcQFwI8f_Oe3XyN1V_eJXqUA3H0OrBRqdnCjX39qpCf0Ydgbv9awdZRvru85fWc&amp;s\"/>,\n",
       " <img alt=\"\" class=\"yWs4tf\" src=\"https://encrypted-tbn0.gstatic.com/images?q=tbn:ANd9GcTTZazXWMGlagvnpYdz9el0noSpXWrySfSUkHmEOV4Ru2g9aL77ieNsgedB9A&amp;s\"/>,\n",
       " <img alt=\"\" class=\"yWs4tf\" src=\"https://encrypted-tbn0.gstatic.com/images?q=tbn:ANd9GcTQplCWUnUAOLxpe6pck_0oVEf8gwaO4MGK-o6vRWF04MI5gQ7W46uHPEZq9Q&amp;s\"/>]"
      ]
     },
     "execution_count": 11,
     "metadata": {},
     "output_type": "execute_result"
    }
   ],
   "source": [
    "image_tages#these are all images#first no image so you can delete"
   ]
  },
  {
   "cell_type": "code",
   "execution_count": 15,
   "id": "94ef6e77-10c4-43c5-9109-a1ed4fc6234b",
   "metadata": {},
   "outputs": [],
   "source": [
    "del image_tages[0]#as there is no image\n",
    "image_data_mongo = []\n",
    "for i in image_tages:\n",
    "    image_url =  i['src']\n",
    "    image_data = requests.get(image_url).content\n",
    "    mydict = {\"index\" : image_url , \"image\" : image_data}\n",
    "    image_data_mongo.append(mydict)\n",
    "    with open(os.path.join(save_dir,f\"{query}_{image_tages.index(i)}.jpg\") , \"wb\") as f :\n",
    "                           f.write(image_data)\n",
    "#all images are present in the src\n",
    "#now we get image which is image_data\n",
    "\n",
    "#the image data is stored in above way"
   ]
  },
  {
   "cell_type": "code",
   "execution_count": null,
   "id": "8387ffdd-a540-41ea-ada6-ff91f1c150dd",
   "metadata": {},
   "outputs": [],
   "source": []
  }
 ],
 "metadata": {
  "kernelspec": {
   "display_name": "Python 3 (ipykernel)",
   "language": "python",
   "name": "python3"
  },
  "language_info": {
   "codemirror_mode": {
    "name": "ipython",
    "version": 3
   },
   "file_extension": ".py",
   "mimetype": "text/x-python",
   "name": "python",
   "nbconvert_exporter": "python",
   "pygments_lexer": "ipython3",
   "version": "3.10.8"
  }
 },
 "nbformat": 4,
 "nbformat_minor": 5
}
